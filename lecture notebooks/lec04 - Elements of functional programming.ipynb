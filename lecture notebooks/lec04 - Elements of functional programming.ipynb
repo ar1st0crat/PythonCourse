{
 "cells": [
  {
   "cell_type": "markdown",
   "metadata": {},
   "source": [
    "## Лекция 4 - Элементы функционального программирования в Python\n",
    "\n",
    "- синтаксис функций\n",
    "- LEGB\n",
    "- итераторы и генераторы\n",
    "- лямбда-функции\n",
    "- filter, map, reduce, zip\n",
    "- модуль itertools (is back)\n",
    "- декораторы\n",
    "- модуль functools"
   ]
  },
  {
   "cell_type": "code",
   "execution_count": 1,
   "metadata": {},
   "outputs": [
    {
     "data": {
      "text/plain": [
       "73"
      ]
     },
     "execution_count": 1,
     "metadata": {},
     "output_type": "execute_result"
    }
   ],
   "source": [
    "# пример простейших функций\n",
    "# (уже не ново, т.к. видели примеры в пакете algo)\n",
    "\n",
    "def foo(x):\n",
    "    return x + 10\n",
    "   \n",
    "magic_number = foo(63)\n",
    "magic_number"
   ]
  },
  {
   "cell_type": "code",
   "execution_count": 2,
   "metadata": {},
   "outputs": [
    {
     "name": "stdout",
     "output_type": "stream",
     "text": [
      "Hello\n"
     ]
    }
   ],
   "source": [
    "def bar():\n",
    "    print('Hello')\n",
    "    \n",
    "bar()    "
   ]
  },
  {
   "cell_type": "code",
   "execution_count": 3,
   "metadata": {},
   "outputs": [
    {
     "data": {
      "text/plain": [
       "(25, -5, 150)"
      ]
     },
     "execution_count": 3,
     "metadata": {},
     "output_type": "execute_result"
    }
   ],
   "source": [
    "# в динамически типизируемых языках можно легко возвращать \"что угодно\"\n",
    "\n",
    "# пример функции, возвращающей кортеж:\n",
    "\n",
    "def arithmetics(a, b):\n",
    "    ''' функция возвращает сумму, разность и произведение чисел '''\n",
    "    summa = a + b\n",
    "    diff = a - b\n",
    "    mult = a * b\n",
    "    return summa, diff, mult\n",
    "\n",
    "s = arithmetics(10, 15)\n",
    "s"
   ]
  },
  {
   "cell_type": "code",
   "execution_count": 4,
   "metadata": {},
   "outputs": [
    {
     "data": {
      "text/plain": [
       "-2"
      ]
     },
     "execution_count": 4,
     "metadata": {},
     "output_type": "execute_result"
    }
   ],
   "source": [
    "_, difference, _ = arithmetics(7, 9)\n",
    "difference"
   ]
  },
  {
   "cell_type": "code",
   "execution_count": 5,
   "metadata": {},
   "outputs": [
    {
     "name": "stdout",
     "output_type": "stream",
     "text": [
      "~~~~~~~~~~~~~~~~~~~~\n",
      "~~~~~~~~~~\n",
      "~~~~~\n",
      "Hello\n",
      "~~~~~\n",
      "~~~~~~~~~~\n",
      "~~~~~~~~~~~~~~~~~~~~\n",
      "\n",
      "args:\n",
      "(20, 10, 5)\n",
      "kwargs:\n",
      "{'fill': '~', 'footer': True}\n"
     ]
    }
   ],
   "source": [
    "# Синтаксис *args, **kwargs:\n",
    "def pretty_print(text, *args, **kwargs):\n",
    "    # отобразить \"шапку\"\n",
    "    for cnt in args:\n",
    "        print(kwargs['fill'] * cnt)\n",
    "        \n",
    "    # вывести собственно текст\n",
    "    print(text)\n",
    "    \n",
    "    # отобразить футер, если параметр footer=True\n",
    "    if kwargs['footer']:\n",
    "        for cnt in reversed(args):\n",
    "            print(kwargs['fill'] * cnt)\n",
    "    \n",
    "    # args kwargs\n",
    "    print()        \n",
    "    print('args:')\n",
    "    print(args)\n",
    "    print('kwargs:')\n",
    "    print(kwargs)\n",
    "\n",
    "    \n",
    "pretty_print('Hello', 20, 10, 5, fill='~', footer=True)"
   ]
  },
  {
   "cell_type": "code",
   "execution_count": 6,
   "metadata": {},
   "outputs": [
    {
     "ename": "TypeError",
     "evalue": "can't multiply sequence by non-int of type 'list'",
     "output_type": "error",
     "traceback": [
      "\u001b[1;31m---------------------------------------------------------------------------\u001b[0m",
      "\u001b[1;31mTypeError\u001b[0m                                 Traceback (most recent call last)",
      "\u001b[1;32m<ipython-input-6-c3b47d0566ca>\u001b[0m in \u001b[0;36m<module>\u001b[1;34m\u001b[0m\n\u001b[0;32m      3\u001b[0m \u001b[1;31m# param_list сам собой не развернется в последовательность параметров\u001b[0m\u001b[1;33m\u001b[0m\u001b[1;33m\u001b[0m\u001b[1;33m\u001b[0m\u001b[0m\n\u001b[0;32m      4\u001b[0m \u001b[1;31m# это будет один параметр - список:\u001b[0m\u001b[1;33m\u001b[0m\u001b[1;33m\u001b[0m\u001b[1;33m\u001b[0m\u001b[0m\n\u001b[1;32m----> 5\u001b[1;33m \u001b[0mpretty_print\u001b[0m\u001b[1;33m(\u001b[0m\u001b[1;34m'Hello!'\u001b[0m\u001b[1;33m,\u001b[0m \u001b[0mparam_list\u001b[0m\u001b[1;33m,\u001b[0m \u001b[0mfill\u001b[0m\u001b[1;33m=\u001b[0m\u001b[1;34m'~'\u001b[0m\u001b[1;33m,\u001b[0m \u001b[0mfooter\u001b[0m\u001b[1;33m=\u001b[0m\u001b[1;32mFalse\u001b[0m\u001b[1;33m)\u001b[0m\u001b[1;33m\u001b[0m\u001b[1;33m\u001b[0m\u001b[0m\n\u001b[0m\u001b[0;32m      6\u001b[0m \u001b[1;33m\u001b[0m\u001b[0m\n\u001b[0;32m      7\u001b[0m \u001b[1;31m# получим эксепшн:\u001b[0m\u001b[1;33m\u001b[0m\u001b[1;33m\u001b[0m\u001b[1;33m\u001b[0m\u001b[0m\n",
      "\u001b[1;32m<ipython-input-5-df53db6670cf>\u001b[0m in \u001b[0;36mpretty_print\u001b[1;34m(text, *args, **kwargs)\u001b[0m\n\u001b[0;32m      3\u001b[0m     \u001b[1;31m# отобразить \"шапку\"\u001b[0m\u001b[1;33m\u001b[0m\u001b[1;33m\u001b[0m\u001b[1;33m\u001b[0m\u001b[0m\n\u001b[0;32m      4\u001b[0m     \u001b[1;32mfor\u001b[0m \u001b[0mcnt\u001b[0m \u001b[1;32min\u001b[0m \u001b[0margs\u001b[0m\u001b[1;33m:\u001b[0m\u001b[1;33m\u001b[0m\u001b[1;33m\u001b[0m\u001b[0m\n\u001b[1;32m----> 5\u001b[1;33m         \u001b[0mprint\u001b[0m\u001b[1;33m(\u001b[0m\u001b[0mkwargs\u001b[0m\u001b[1;33m[\u001b[0m\u001b[1;34m'fill'\u001b[0m\u001b[1;33m]\u001b[0m \u001b[1;33m*\u001b[0m \u001b[0mcnt\u001b[0m\u001b[1;33m)\u001b[0m\u001b[1;33m\u001b[0m\u001b[1;33m\u001b[0m\u001b[0m\n\u001b[0m\u001b[0;32m      6\u001b[0m \u001b[1;33m\u001b[0m\u001b[0m\n\u001b[0;32m      7\u001b[0m     \u001b[1;31m# вывести собственно текст\u001b[0m\u001b[1;33m\u001b[0m\u001b[1;33m\u001b[0m\u001b[1;33m\u001b[0m\u001b[0m\n",
      "\u001b[1;31mTypeError\u001b[0m: can't multiply sequence by non-int of type 'list'"
     ]
    }
   ],
   "source": [
    "param_list = [50, 25, 10]\n",
    "\n",
    "# param_list сам собой не развернется в последовательность параметров\n",
    "# это будет один параметр - список:\n",
    "pretty_print('Hello!', param_list, fill='~', footer=False)\n",
    "\n",
    "# получим эксепшн:"
   ]
  },
  {
   "cell_type": "code",
   "execution_count": 21,
   "metadata": {},
   "outputs": [
    {
     "name": "stdout",
     "output_type": "stream",
     "text": [
      "~~~~~~~~~~~~~~~~~~~~~~~~~~~~~~~~~~~~~~~~~~~~~~~~~~\n",
      "~~~~~~~~~~~~~~~~~~~~~~~~~\n",
      "~~~~~~~~~~\n",
      "Hello!\n",
      "\n",
      "args:\n",
      "(50, 25, 10)\n",
      "kwargs:\n",
      "{'fill': '~', 'footer': False}\n"
     ]
    }
   ],
   "source": [
    "# чтобы список трактовался как список параметров, пишем так:\n",
    "pretty_print('Hello!', *param_list, fill='~', footer=False)\n"
   ]
  },
  {
   "cell_type": "code",
   "execution_count": 22,
   "metadata": {},
   "outputs": [
    {
     "name": "stdout",
     "output_type": "stream",
     "text": [
      "XXXXXXXXXX\n",
      "*****\n"
     ]
    }
   ],
   "source": [
    "def print_chars(char, count):\n",
    "    print(char * count)\n",
    "    \n",
    "print_chars('X', 10)\n",
    "\n",
    "# параметры можно указать еще таким образом:\n",
    "print_chars(count=5, char='*')\n"
   ]
  },
  {
   "cell_type": "code",
   "execution_count": 23,
   "metadata": {},
   "outputs": [
    {
     "name": "stdout",
     "output_type": "stream",
     "text": [
      "[1, 2, 3, 42]\n",
      "[1, 2, 3, 73]\n"
     ]
    }
   ],
   "source": [
    "# демонстрация нюанса (список-параметр создается только единожды)\n",
    "\n",
    "def append_item(item, arr=[]):\n",
    "    arr.append(item)\n",
    "    return arr\n",
    "\n",
    "# здксь без эксцессов:\n",
    "print(append_item(42, [1,2,3]))\n",
    "print(append_item(73, [1,2,3]))\n"
   ]
  },
  {
   "cell_type": "code",
   "execution_count": 24,
   "metadata": {},
   "outputs": [
    {
     "name": "stdout",
     "output_type": "stream",
     "text": [
      "[42]\n",
      "[42, 73]\n"
     ]
    }
   ],
   "source": [
    "# а здесь - с эксцессами:\n",
    "print(append_item(42))\n",
    "print(append_item(73))\n"
   ]
  },
  {
   "cell_type": "code",
   "execution_count": 25,
   "metadata": {},
   "outputs": [
    {
     "name": "stdout",
     "output_type": "stream",
     "text": [
      "[42]\n",
      "[73]\n"
     ]
    }
   ],
   "source": [
    "# корректный обход нюанса\n",
    "def append_item(item, arr=None):\n",
    "    if arr is None:\n",
    "        arr = []\n",
    "    arr.append(item)\n",
    " \n",
    "    return arr\n",
    "\n",
    "print(append_item(42))\n",
    "print(append_item(73))\n"
   ]
  },
  {
   "cell_type": "markdown",
   "metadata": {},
   "source": [
    "### Функция - это first class объект"
   ]
  },
  {
   "cell_type": "code",
   "execution_count": 26,
   "metadata": {},
   "outputs": [
    {
     "data": {
      "text/plain": [
       "['__annotations__',\n",
       " '__call__',\n",
       " '__class__',\n",
       " '__closure__',\n",
       " '__code__',\n",
       " '__defaults__',\n",
       " '__delattr__',\n",
       " '__dict__',\n",
       " '__dir__',\n",
       " '__doc__',\n",
       " '__eq__',\n",
       " '__format__',\n",
       " '__ge__',\n",
       " '__get__',\n",
       " '__getattribute__',\n",
       " '__globals__',\n",
       " '__gt__',\n",
       " '__hash__',\n",
       " '__init__',\n",
       " '__init_subclass__',\n",
       " '__kwdefaults__',\n",
       " '__le__',\n",
       " '__lt__',\n",
       " '__module__',\n",
       " '__name__',\n",
       " '__ne__',\n",
       " '__new__',\n",
       " '__qualname__',\n",
       " '__reduce__',\n",
       " '__reduce_ex__',\n",
       " '__repr__',\n",
       " '__setattr__',\n",
       " '__sizeof__',\n",
       " '__str__',\n",
       " '__subclasshook__']"
      ]
     },
     "execution_count": 26,
     "metadata": {},
     "output_type": "execute_result"
    }
   ],
   "source": [
    "# очень важно: функция - это first class объект!\n",
    "dir(pretty_print)"
   ]
  },
  {
   "cell_type": "code",
   "execution_count": 27,
   "metadata": {},
   "outputs": [
    {
     "name": "stdout",
     "output_type": "stream",
     "text": [
      "Квалифицированное имя функции: pretty_print\n",
      "Переменные в функции: ('text', 'args', 'kwargs', 'cnt')\n"
     ]
    }
   ],
   "source": [
    "# немного поинстроспектируем:\n",
    "print('Квалифицированное имя функции:', pretty_print.__qualname__)\n",
    "print('Переменные в функции:', pretty_print.__code__.co_varnames)"
   ]
  },
  {
   "cell_type": "code",
   "execution_count": 28,
   "metadata": {},
   "outputs": [
    {
     "data": {
      "text/plain": [
       "20"
      ]
     },
     "execution_count": 28,
     "metadata": {},
     "output_type": "execute_result"
    }
   ],
   "source": [
    "# эквивалентно foo(10)\n",
    "foo.__call__(10)"
   ]
  },
  {
   "cell_type": "code",
   "execution_count": 29,
   "metadata": {},
   "outputs": [
    {
     "data": {
      "text/plain": [
       "110"
      ]
     },
     "execution_count": 29,
     "metadata": {},
     "output_type": "execute_result"
    }
   ],
   "source": [
    "# таким образом, 1) функции можно присваивать переменным:\n",
    "func = foo\n",
    "func(100)"
   ]
  },
  {
   "cell_type": "code",
   "execution_count": 30,
   "metadata": {},
   "outputs": [
    {
     "name": "stdout",
     "output_type": "stream",
     "text": [
      "foo 15\n",
      "factorial 120\n"
     ]
    }
   ],
   "source": [
    "# 2) можно делать массив из функций\n",
    "#    и последовательно выполнять их:\n",
    "import math\n",
    "\n",
    "funcs = [foo, math.factorial]\n",
    "\n",
    "for func in funcs:\n",
    "    print(func.__qualname__, func(5))\n"
   ]
  },
  {
   "cell_type": "code",
   "execution_count": 31,
   "metadata": {},
   "outputs": [
    {
     "data": {
      "text/plain": [
       "[12, 2, 15]"
      ]
     },
     "execution_count": 31,
     "metadata": {},
     "output_type": "execute_result"
    }
   ],
   "source": [
    "# 3) можно передавать функцию в функцию:\n",
    "def process_elementwise(seq, func):\n",
    "    return [func(s) for s in seq]\n",
    "\n",
    "words = ['Fundamentals', 'of', 'brainwashing...']\n",
    "process_elementwise(words, str.__len__)\n"
   ]
  },
  {
   "cell_type": "code",
   "execution_count": 32,
   "metadata": {},
   "outputs": [
    {
     "data": {
      "text/plain": [
       "['FUNDAMENTALS', 'OF', 'BRAINWASHING...']"
      ]
     },
     "execution_count": 32,
     "metadata": {},
     "output_type": "execute_result"
    }
   ],
   "source": [
    "process_elementwise(words, str.upper)"
   ]
  },
  {
   "cell_type": "code",
   "execution_count": 33,
   "metadata": {},
   "outputs": [
    {
     "data": {
      "text/plain": [
       "[1, 3, 5, 7, 9]"
      ]
     },
     "execution_count": 33,
     "metadata": {},
     "output_type": "execute_result"
    }
   ],
   "source": [
    "nums = [1, -3, 5, -7, -9]\n",
    "process_elementwise(nums, abs)"
   ]
  },
  {
   "cell_type": "code",
   "execution_count": 34,
   "metadata": {},
   "outputs": [
    {
     "data": {
      "text/plain": [
       "[11, 7, 15, 3, 1]"
      ]
     },
     "execution_count": 34,
     "metadata": {},
     "output_type": "execute_result"
    }
   ],
   "source": [
    "process_elementwise(nums, foo)"
   ]
  },
  {
   "cell_type": "code",
   "execution_count": null,
   "metadata": {},
   "outputs": [],
   "source": []
  },
  {
   "cell_type": "code",
   "execution_count": 35,
   "metadata": {},
   "outputs": [],
   "source": [
    "# похоже на ООП-класс, не так ли:\n",
    "\n",
    "def solve_quad_equation(a, b, c):\n",
    "    \n",
    "    def discriminant():\n",
    "        return b * b - 4 * a * c\n",
    "    \n",
    "    d = discriminant() ** 0.5\n",
    "    a2 = a * 2\n",
    "    \n",
    "    return (-b + d) / a2, (-b - d) / a2\n"
   ]
  },
  {
   "cell_type": "code",
   "execution_count": 36,
   "metadata": {},
   "outputs": [
    {
     "data": {
      "text/plain": [
       "(2.0, -3.0)"
      ]
     },
     "execution_count": 36,
     "metadata": {},
     "output_type": "execute_result"
    }
   ],
   "source": [
    "solve_quad_equation(1, 1, -6)"
   ]
  },
  {
   "cell_type": "code",
   "execution_count": null,
   "metadata": {},
   "outputs": [],
   "source": []
  },
  {
   "cell_type": "markdown",
   "metadata": {},
   "source": [
    "### LEGB (области видимости)\n",
    "\n",
    "- <b>L</b>, Local — все локальные имена: имена, любым способом присвоенные внутри функции (объявленных как ```def``` или ```lambda```), и не помеченные ключевым словом ```global``` в этой функции.\n",
    "\n",
    "\n",
    "- <b>E</b>, Enclosing function locals — все имена в локальной области видимости всех замыкающих функций (объявленных как ```def``` или ```lambda```), от самой вложенной ко внешней.\n",
    "\n",
    "\n",
    "- <b>G</b>, Global (на уровне модуля) — имена, глобальные для модуля или помеченные ключевым словом ```global``` внутри конструкции ```def``` где-либо в файле.\n",
    "\n",
    "\n",
    "- <b>B</b>, Built-in (Python) — Предопределенные глобальные имена Python, которые списком содержатся в переменной ```__builtins__``` (которые, в свою очердь, берутся из модуля ```builtins```): ```print, open, reversed, ValueError``` и т.д."
   ]
  },
  {
   "cell_type": "code",
   "execution_count": 37,
   "metadata": {},
   "outputs": [
    {
     "ename": "UnboundLocalError",
     "evalue": "local variable 'x' referenced before assignment",
     "output_type": "error",
     "traceback": [
      "\u001b[1;31m---------------------------------------------------------------------------\u001b[0m",
      "\u001b[1;31mUnboundLocalError\u001b[0m                         Traceback (most recent call last)",
      "\u001b[1;32m<ipython-input-37-44a4a629a961>\u001b[0m in \u001b[0;36m<module>\u001b[1;34m\u001b[0m\n\u001b[0;32m      5\u001b[0m     \u001b[0mx\u001b[0m \u001b[1;33m+=\u001b[0m \u001b[1;36m1\u001b[0m      \u001b[1;31m# здесь бросит исключение\u001b[0m\u001b[1;33m\u001b[0m\u001b[1;33m\u001b[0m\u001b[0m\n\u001b[0;32m      6\u001b[0m \u001b[1;33m\u001b[0m\u001b[0m\n\u001b[1;32m----> 7\u001b[1;33m \u001b[0mwrong_scope\u001b[0m\u001b[1;33m(\u001b[0m\u001b[1;33m)\u001b[0m\u001b[1;33m\u001b[0m\u001b[1;33m\u001b[0m\u001b[0m\n\u001b[0m",
      "\u001b[1;32m<ipython-input-37-44a4a629a961>\u001b[0m in \u001b[0;36mwrong_scope\u001b[1;34m()\u001b[0m\n\u001b[0;32m      2\u001b[0m \u001b[1;33m\u001b[0m\u001b[0m\n\u001b[0;32m      3\u001b[0m \u001b[1;32mdef\u001b[0m \u001b[0mwrong_scope\u001b[0m\u001b[1;33m(\u001b[0m\u001b[1;33m)\u001b[0m\u001b[1;33m:\u001b[0m\u001b[1;33m\u001b[0m\u001b[1;33m\u001b[0m\u001b[0m\n\u001b[1;32m----> 4\u001b[1;33m     \u001b[0mprint\u001b[0m\u001b[1;33m(\u001b[0m\u001b[0mx\u001b[0m\u001b[1;33m)\u001b[0m    \u001b[1;31m# это сработает\u001b[0m\u001b[1;33m\u001b[0m\u001b[1;33m\u001b[0m\u001b[0m\n\u001b[0m\u001b[0;32m      5\u001b[0m     \u001b[0mx\u001b[0m \u001b[1;33m+=\u001b[0m \u001b[1;36m1\u001b[0m      \u001b[1;31m# здесь бросит исключение\u001b[0m\u001b[1;33m\u001b[0m\u001b[1;33m\u001b[0m\u001b[0m\n\u001b[0;32m      6\u001b[0m \u001b[1;33m\u001b[0m\u001b[0m\n",
      "\u001b[1;31mUnboundLocalError\u001b[0m: local variable 'x' referenced before assignment"
     ]
    }
   ],
   "source": [
    "x = 73\n",
    "\n",
    "def wrong_scope():\n",
    "    print(x)    # это сработает\n",
    "    x += 1      # здесь бросит исключение\n",
    "\n",
    "wrong_scope()"
   ]
  },
  {
   "cell_type": "code",
   "execution_count": 38,
   "metadata": {},
   "outputs": [
    {
     "name": "stdout",
     "output_type": "stream",
     "text": [
      "73\n",
      "74\n"
     ]
    }
   ],
   "source": [
    "x = 73\n",
    "\n",
    "def scope_ok():\n",
    "    global x\n",
    "    print(x)\n",
    "    x += 1\n",
    "    \n",
    "scope_ok()\n",
    "\n",
    "print(x)"
   ]
  },
  {
   "cell_type": "code",
   "execution_count": 39,
   "metadata": {},
   "outputs": [
    {
     "name": "stdout",
     "output_type": "stream",
     "text": [
      "Enclosing function locals: {'x': 500, 'y': 1000}\n",
      "Inner func x, y: 42 1000\n",
      "Inner func locals: {'y': 1000}\n",
      "Global x, y: 43 73\n"
     ]
    }
   ],
   "source": [
    "# более полная демонстрация LEGB, функции locals(),\n",
    "# а также замыканий\n",
    "\n",
    "x = 42\n",
    "y = 73\n",
    "\n",
    "# замыкающая функция\n",
    "def enclosing_func():\n",
    "    x = 500\n",
    "    y = 1000\n",
    "    print('Enclosing function locals:', locals())\n",
    "    \n",
    "    # внутренняя (вложенная) функция\n",
    "    def inner_func():\n",
    "        global x\n",
    "        print('Inner func x, y:', x, y)\n",
    "        print('Inner func locals:', locals())\n",
    "        x += 1\n",
    "\n",
    "    return inner_func\n",
    "\n",
    "func = enclosing_func()\n",
    "func()\n",
    "\n",
    "print('Global x, y:', x, y)"
   ]
  },
  {
   "cell_type": "code",
   "execution_count": 40,
   "metadata": {},
   "outputs": [
    {
     "name": "stdout",
     "output_type": "stream",
     "text": [
      "1\n",
      "2\n"
     ]
    }
   ],
   "source": [
    "# демонстрация использования ключевого слова nonlocal:\n",
    "\n",
    "def enclosing_func():\n",
    "    value = 0\n",
    "    # вложенная функция наращивает value замыкающей функции\n",
    "    def inner_func():\n",
    "        nonlocal value\n",
    "        value += 1\n",
    "        return value\n",
    "    return inner_func\n",
    "\n",
    "id_generator = enclosing_func()\n",
    "\n",
    "print(id_generator())\n",
    "print(id_generator())"
   ]
  },
  {
   "cell_type": "code",
   "execution_count": 41,
   "metadata": {},
   "outputs": [
    {
     "name": "stdout",
     "output_type": "stream",
     "text": [
      "0 (в цикле)\n",
      "1 (в цикле)\n",
      "2 (в цикле)\n",
      "3 (в цикле)\n",
      "4 (в цикле)\n",
      "4 (в глобальной области видимости)\n"
     ]
    }
   ],
   "source": [
    "n = 1\n",
    "\n",
    "# переменные for-циклов \"протекают\" в глобальное пространство имен\n",
    "for n in range(5):\n",
    "    print(n, '(в цикле)')\n",
    "        \n",
    "print(n, '(в глобальной области видимости)')"
   ]
  },
  {
   "cell_type": "code",
   "execution_count": 42,
   "metadata": {},
   "outputs": [
    {
     "name": "stdout",
     "output_type": "stream",
     "text": [
      "[0, 1, 2, 3, 4]\n",
      "1 (в глобальной области видимости)\n"
     ]
    }
   ],
   "source": [
    "# В данном случае \"протекания\" не будет:\n",
    "\n",
    "i = 1\n",
    "print([i for i in range(5)])\n",
    "print(i, '(в глобальной области видимости)')"
   ]
  },
  {
   "cell_type": "markdown",
   "metadata": {},
   "source": [
    "### Итераторы и генераторы:\n",
    "- итератор - это концепция (любой объект, имеющий методы ```__next__()``` и ```__iter__()```)\n",
    "- генератор - языковое средство (объект вокруг функции с ```yield```)\n",
    "\n",
    "Любой генератор является итератором, но не наоборот."
   ]
  },
  {
   "cell_type": "code",
   "execution_count": 43,
   "metadata": {
    "scrolled": true
   },
   "outputs": [
    {
     "name": "stdout",
     "output_type": "stream",
     "text": [
      "1\n",
      "3\n",
      "5\n",
      "7\n",
      "9\n"
     ]
    }
   ],
   "source": [
    "def odd_generator(x):\n",
    "    for i in range(1, x, 2):\n",
    "        yield i\n",
    "\n",
    "for x in odd_generator(10):\n",
    "    print(x)"
   ]
  },
  {
   "cell_type": "code",
   "execution_count": 44,
   "metadata": {
    "scrolled": true
   },
   "outputs": [
    {
     "data": {
      "text/plain": [
       "<generator object odd_generator at 0x0000021B20F90AC0>"
      ]
     },
     "execution_count": 44,
     "metadata": {},
     "output_type": "execute_result"
    }
   ],
   "source": [
    "it = odd_generator(10)\n",
    "it"
   ]
  },
  {
   "cell_type": "code",
   "execution_count": 45,
   "metadata": {
    "scrolled": true
   },
   "outputs": [
    {
     "name": "stdout",
     "output_type": "stream",
     "text": [
      "1\n",
      "3\n"
     ]
    }
   ],
   "source": [
    "print(next(it))\n",
    "print(next(it))"
   ]
  },
  {
   "cell_type": "code",
   "execution_count": 46,
   "metadata": {},
   "outputs": [
    {
     "name": "stdout",
     "output_type": "stream",
     "text": [
      "Caught: Iterator problems!\n"
     ]
    }
   ],
   "source": [
    "try:\n",
    "    it.throw(ValueError('Iterator problems!'))\n",
    "except ValueError as err:\n",
    "    print('Caught:', err)\n",
    "\n",
    "it.close()"
   ]
  },
  {
   "cell_type": "code",
   "execution_count": 47,
   "metadata": {
    "scrolled": true
   },
   "outputs": [
    {
     "ename": "StopIteration",
     "evalue": "",
     "output_type": "error",
     "traceback": [
      "\u001b[1;31m---------------------------------------------------------------------------\u001b[0m",
      "\u001b[1;31mStopIteration\u001b[0m                             Traceback (most recent call last)",
      "\u001b[1;32m<ipython-input-47-bc1ab118995a>\u001b[0m in \u001b[0;36m<module>\u001b[1;34m\u001b[0m\n\u001b[1;32m----> 1\u001b[1;33m \u001b[0mnext\u001b[0m\u001b[1;33m(\u001b[0m\u001b[0mit\u001b[0m\u001b[1;33m)\u001b[0m\u001b[1;33m\u001b[0m\u001b[1;33m\u001b[0m\u001b[0m\n\u001b[0m",
      "\u001b[1;31mStopIteration\u001b[0m: "
     ]
    }
   ],
   "source": [
    "next(it)"
   ]
  },
  {
   "cell_type": "code",
   "execution_count": 48,
   "metadata": {
    "scrolled": true
   },
   "outputs": [
    {
     "data": {
      "text/plain": [
       "['__class__',\n",
       " '__del__',\n",
       " '__delattr__',\n",
       " '__dir__',\n",
       " '__doc__',\n",
       " '__eq__',\n",
       " '__format__',\n",
       " '__ge__',\n",
       " '__getattribute__',\n",
       " '__gt__',\n",
       " '__hash__',\n",
       " '__init__',\n",
       " '__init_subclass__',\n",
       " '__iter__',\n",
       " '__le__',\n",
       " '__lt__',\n",
       " '__name__',\n",
       " '__ne__',\n",
       " '__new__',\n",
       " '__next__',\n",
       " '__qualname__',\n",
       " '__reduce__',\n",
       " '__reduce_ex__',\n",
       " '__repr__',\n",
       " '__setattr__',\n",
       " '__sizeof__',\n",
       " '__str__',\n",
       " '__subclasshook__',\n",
       " 'close',\n",
       " 'gi_code',\n",
       " 'gi_frame',\n",
       " 'gi_running',\n",
       " 'gi_yieldfrom',\n",
       " 'send',\n",
       " 'throw']"
      ]
     },
     "execution_count": 48,
     "metadata": {},
     "output_type": "execute_result"
    }
   ],
   "source": [
    "dir(it)"
   ]
  },
  {
   "cell_type": "code",
   "execution_count": 49,
   "metadata": {},
   "outputs": [
    {
     "name": "stdout",
     "output_type": "stream",
     "text": [
      "Got new number: 2\n",
      "Got new number: 5\n",
      "Got new number: 10\n"
     ]
    }
   ],
   "source": [
    "# Но это еще не все:\n",
    "# есть также метод send, который позволяет делать т.н. корутины\n",
    "def coroutine_example():\n",
    "    while True:\n",
    "        x = yield\n",
    "        print('Got new number:', x)\n",
    "        \n",
    "cor = coroutine_example()\n",
    "next(cor)\n",
    "\n",
    "cor.send(2)\n",
    "cor.send(5)\n",
    "cor.send(10)\n",
    "\n",
    "cor.close()"
   ]
  },
  {
   "cell_type": "code",
   "execution_count": 50,
   "metadata": {},
   "outputs": [],
   "source": [
    "# предыдущий пример был игрушечный, но в асинхронных фреймворках\n",
    "# корутины являются важнейшим элементом, и в них можно писать\n",
    "# концептуально что-то вроде этого (чтобы это работало, нужен\n",
    "# постоянно крутящийся цикл, в котором данные асинхронно \n",
    "# получаются и передаются, подробнее - в лекции №11):\n",
    "\n",
    "import random \n",
    "\n",
    "# здесь логика генерации данных для обработки\n",
    "def number_provider():\n",
    "    while True:\n",
    "        yield random.randint(1, 101)\n",
    "\n",
    "# здесь логика получения данных и их обработки\n",
    "def number_processor():\n",
    "    while True:\n",
    "        x = yield from number_provider\n",
    "        print('Got new number:', x)\n"
   ]
  },
  {
   "cell_type": "code",
   "execution_count": 51,
   "metadata": {},
   "outputs": [
    {
     "name": "stdout",
     "output_type": "stream",
     "text": [
      "1\n",
      "3\n",
      "5\n",
      "7\n",
      "9\n",
      "2\n",
      "4\n",
      "6\n",
      "8\n"
     ]
    }
   ],
   "source": [
    "# в Python 3.3 появилась конструкция yield from:\n",
    "\n",
    "def odd_number_provider(n):\n",
    "    for i in range(1, n, 2):\n",
    "        yield i\n",
    "\n",
    "def even_number_provider(n):\n",
    "    for i in range(2, n, 2):\n",
    "        yield i\n",
    "        \n",
    "def number_generator(n):\n",
    "    yield from odd_number_provider(n)\n",
    "    yield from even_number_provider(n)\n",
    "    \n",
    "for number in number_generator(10):\n",
    "    print(number)"
   ]
  },
  {
   "cell_type": "code",
   "execution_count": 52,
   "metadata": {},
   "outputs": [
    {
     "name": "stdout",
     "output_type": "stream",
     "text": [
      "6\n",
      "1\n",
      "7\n",
      "5\n"
     ]
    }
   ],
   "source": [
    "# еще пример генератора (генерирующего цифры числа)\n",
    "\n",
    "def generate_digits(x):\n",
    "    while x > 0:\n",
    "        yield x % 10\n",
    "        x = x // 10\n",
    "\n",
    "for digit in generate_digits(5716):\n",
    "    print(digit)"
   ]
  },
  {
   "cell_type": "code",
   "execution_count": 53,
   "metadata": {},
   "outputs": [
    {
     "data": {
      "text/plain": [
       "[1, 2, 3, 4, 5]"
      ]
     },
     "execution_count": 53,
     "metadata": {},
     "output_type": "execute_result"
    }
   ],
   "source": [
    "l = [x for x in generate_digits(54321)]\n",
    "l"
   ]
  },
  {
   "cell_type": "code",
   "execution_count": 54,
   "metadata": {},
   "outputs": [
    {
     "name": "stdout",
     "output_type": "stream",
     "text": [
      "[3, 2, 5]\n"
     ]
    }
   ],
   "source": [
    "i = generate_digits(4523)\n",
    "print([next(i), next(i), next(i)])"
   ]
  },
  {
   "cell_type": "code",
   "execution_count": 55,
   "metadata": {},
   "outputs": [
    {
     "name": "stdout",
     "output_type": "stream",
     "text": [
      "(1, 2, 3)\n",
      "(1, 3, 2)\n",
      "(2, 1, 3)\n",
      "(2, 3, 1)\n",
      "(3, 1, 2)\n",
      "(3, 2, 1)\n"
     ]
    }
   ],
   "source": [
    "# еще пример генератора (генерирующего перестановки n чисел)\n",
    "\n",
    "import itertools\n",
    "\n",
    "def permute(n):\n",
    "    for perm in itertools.permutations(range(1, n+1)):\n",
    "        yield perm\n",
    "        \n",
    "for p in permute(3):\n",
    "    print(p)"
   ]
  },
  {
   "cell_type": "code",
   "execution_count": 56,
   "metadata": {},
   "outputs": [
    {
     "data": {
      "text/plain": [
       "range(1, 5)"
      ]
     },
     "execution_count": 56,
     "metadata": {},
     "output_type": "execute_result"
    }
   ],
   "source": [
    "nums = range(1, 5)\n",
    "nums\n"
   ]
  },
  {
   "cell_type": "code",
   "execution_count": 57,
   "metadata": {},
   "outputs": [
    {
     "data": {
      "text/plain": [
       "['__bool__',\n",
       " '__class__',\n",
       " '__contains__',\n",
       " '__delattr__',\n",
       " '__dir__',\n",
       " '__doc__',\n",
       " '__eq__',\n",
       " '__format__',\n",
       " '__ge__',\n",
       " '__getattribute__',\n",
       " '__getitem__',\n",
       " '__gt__',\n",
       " '__hash__',\n",
       " '__init__',\n",
       " '__init_subclass__',\n",
       " '__iter__',\n",
       " '__le__',\n",
       " '__len__',\n",
       " '__lt__',\n",
       " '__ne__',\n",
       " '__new__',\n",
       " '__reduce__',\n",
       " '__reduce_ex__',\n",
       " '__repr__',\n",
       " '__reversed__',\n",
       " '__setattr__',\n",
       " '__sizeof__',\n",
       " '__str__',\n",
       " '__subclasshook__',\n",
       " 'count',\n",
       " 'index',\n",
       " 'start',\n",
       " 'step',\n",
       " 'stop']"
      ]
     },
     "execution_count": 57,
     "metadata": {},
     "output_type": "execute_result"
    }
   ],
   "source": [
    "# range - специфический итерируемый объект\n",
    "# с дополнительными возможностями (например, индексирование)\n",
    "dir(nums)"
   ]
  },
  {
   "cell_type": "markdown",
   "metadata": {},
   "source": [
    "### Лямбда-функции"
   ]
  },
  {
   "cell_type": "code",
   "execution_count": 58,
   "metadata": {},
   "outputs": [
    {
     "name": "stdout",
     "output_type": "stream",
     "text": [
      "6:51\n",
      "2:00\n"
     ]
    }
   ],
   "source": [
    "# рассмотрим пример функции, которая преобразует\n",
    "# количество секунд в формат времени (например, звучания трека)\n",
    "\n",
    "def duration_string(seconds):\n",
    "    return '{}:{:02d}'.format(seconds // 60, seconds % 60)\n",
    "\n",
    "print(duration_string(411))\n",
    "print(duration_string(120))"
   ]
  },
  {
   "cell_type": "code",
   "execution_count": 59,
   "metadata": {},
   "outputs": [
    {
     "name": "stdout",
     "output_type": "stream",
     "text": [
      "6:51\n",
      "2:00\n"
     ]
    }
   ],
   "source": [
    "# небольшие функции можно объявлять \"на ходу\"\n",
    "# это анонимные функции (лямбда-функции)\n",
    "\n",
    "dur = lambda seconds: '{}:{:02d}'.format(seconds // 60, seconds % 60)\n",
    "\n",
    "print(dur(411))\n",
    "print(dur(120))"
   ]
  },
  {
   "cell_type": "code",
   "execution_count": 60,
   "metadata": {},
   "outputs": [
    {
     "data": {
      "text/plain": [
       "function"
      ]
     },
     "execution_count": 60,
     "metadata": {},
     "output_type": "execute_result"
    }
   ],
   "source": [
    "type(dur)"
   ]
  },
  {
   "cell_type": "code",
   "execution_count": 61,
   "metadata": {},
   "outputs": [
    {
     "name": "stdout",
     "output_type": "stream",
     "text": [
      "<lambda>\n",
      "('seconds',)\n"
     ]
    }
   ],
   "source": [
    "print(dur.__name__)\n",
    "print(dur.__code__.co_varnames)"
   ]
  },
  {
   "cell_type": "markdown",
   "metadata": {},
   "source": [
    "Часто лямбда-функции используются в качестве параметров функций <b>map</b>, <b>filter</b>, <b>reduce</b>"
   ]
  },
  {
   "cell_type": "code",
   "execution_count": 62,
   "metadata": {},
   "outputs": [
    {
     "name": "stdout",
     "output_type": "stream",
     "text": [
      "<filter object at 0x0000021B20F94250>\n",
      "['1.wav', '2.mp3', '5.wav']\n"
     ]
    }
   ],
   "source": [
    "# демонстрация filter()\n",
    "\n",
    "files = ['1.wav', '2.mp3', '3.jpg', '4.png', '5.wav']\n",
    "\n",
    "sound_files = filter(\n",
    "    lambda f: f.endswith('wav') or f.endswith('mp3'),\n",
    "    files)\n",
    "\n",
    "print(sound_files)\n",
    "print(list(sound_files))"
   ]
  },
  {
   "cell_type": "code",
   "execution_count": 63,
   "metadata": {},
   "outputs": [
    {
     "data": {
      "text/plain": [
       "['1.wav', '2.mp3', '5.wav']"
      ]
     },
     "execution_count": 63,
     "metadata": {},
     "output_type": "execute_result"
    }
   ],
   "source": [
    "# первым параметром функции filter() является любая функция;\n",
    "# если функция используется одноразово и/или короткая телом,\n",
    "# то лямбда хорошо подходит, иначе - подавать готовую функцию\n",
    "\n",
    "def is_sound_file(filename):\n",
    "    return filename.endswith('wav') or filename.endswith('mp3')\n",
    "\n",
    "list(filter(is_sound_file, files))"
   ]
  },
  {
   "cell_type": "code",
   "execution_count": 64,
   "metadata": {},
   "outputs": [
    {
     "data": {
      "text/plain": [
       "['1.wav', '2.mp3', '5.wav']"
      ]
     },
     "execution_count": 64,
     "metadata": {},
     "output_type": "execute_result"
    }
   ],
   "source": [
    "# эквивалент filter() в виде генератора списка:\n",
    "sound_files = [f for f in files \n",
    "               if f.endswith('wav') or f.endswith('mp3')]\n",
    "\n",
    "sound_files"
   ]
  },
  {
   "cell_type": "code",
   "execution_count": 65,
   "metadata": {},
   "outputs": [
    {
     "data": {
      "text/plain": [
       "['1.wav', '2.mp3', '5.wav']"
      ]
     },
     "execution_count": 65,
     "metadata": {},
     "output_type": "execute_result"
    }
   ],
   "source": [
    "# конечно, можно написать и так:\n",
    "sound_files = []\n",
    "for f in files:\n",
    "    if f.endswith('wav') or f.endswith('mp3'):\n",
    "        sound_files.append(f)\n",
    "\n",
    "sound_files\n",
    "\n",
    "# НО НЕ НАДО, это ж не по-питоновски! ))"
   ]
  },
  {
   "cell_type": "code",
   "execution_count": 66,
   "metadata": {},
   "outputs": [
    {
     "name": "stdout",
     "output_type": "stream",
     "text": [
      "['wav', 'mp3', 'jpg', 'png', 'wav']\n",
      "['WAV', 'MP3', 'JPG', 'PNG', 'WAV']\n"
     ]
    }
   ],
   "source": [
    "# демонстрация функции map()\n",
    "\n",
    "# 1)\n",
    "extensions = map(\n",
    "    lambda f: f[f.index('.')+1:],\n",
    "    files)\n",
    "\n",
    "extensions = list(extensions)\n",
    "print(extensions)\n",
    "\n",
    "# 2)\n",
    "print(list(map(str.upper, extensions)))"
   ]
  },
  {
   "cell_type": "code",
   "execution_count": 67,
   "metadata": {},
   "outputs": [
    {
     "name": "stdout",
     "output_type": "stream",
     "text": [
      "['wav', 'mp3', 'jpg', 'png', 'wav']\n",
      "['WAV', 'MP3', 'JPG', 'PNG', 'WAV']\n"
     ]
    }
   ],
   "source": [
    "# эквивалент map() в виде генератора списка\n",
    "\n",
    "# 1) \n",
    "extensions = [f[f.index('.')+1:] for f in files]\n",
    "print(extensions)\n",
    "\n",
    "# 2)\n",
    "extensions = [ext.upper() for ext in extensions]\n",
    "print(extensions)"
   ]
  },
  {
   "cell_type": "code",
   "execution_count": 68,
   "metadata": {},
   "outputs": [
    {
     "name": "stdout",
     "output_type": "stream",
     "text": [
      "[(1, 2, 3), (1, 2, 3, 4, 5), (1,), (1, 2)]\n",
      "\n",
      "(1, 2, 3)\n",
      "(1, 2, 3, 4, 5)\n",
      "(1,)\n",
      "(1, 2)\n"
     ]
    }
   ],
   "source": [
    "# пример: отобразить числа в интервалы соответствующей длины\n",
    "\n",
    "lengths = [3, 5, 1, 2]\n",
    "\n",
    "intervals = map(lambda n: tuple(range(1, n+1)), lengths)\n",
    "intervals = list(intervals)\n",
    "\n",
    "print(intervals)\n",
    "print()\n",
    "for interval in intervals:\n",
    "    print(interval)"
   ]
  },
  {
   "cell_type": "code",
   "execution_count": 69,
   "metadata": {},
   "outputs": [
    {
     "data": {
      "text/plain": [
       "6"
      ]
     },
     "execution_count": 69,
     "metadata": {},
     "output_type": "execute_result"
    }
   ],
   "source": [
    "# Еще пример: посчитаем сумму цифр числа в декларативном стиле:\n",
    "n = 123\n",
    "sum(map(int, str(n)))"
   ]
  },
  {
   "cell_type": "code",
   "execution_count": 70,
   "metadata": {},
   "outputs": [
    {
     "data": {
      "text/plain": [
       "10"
      ]
     },
     "execution_count": 70,
     "metadata": {},
     "output_type": "execute_result"
    }
   ],
   "source": [
    "\n",
    "from functools import reduce\n",
    "\n",
    "s = range(1, 5)\n",
    "reduce(lambda x, y: x + y, s)"
   ]
  },
  {
   "cell_type": "code",
   "execution_count": 71,
   "metadata": {},
   "outputs": [
    {
     "data": {
      "text/plain": [
       "'He evolves slowly'"
      ]
     },
     "execution_count": 71,
     "metadata": {},
     "output_type": "execute_result"
    }
   ],
   "source": [
    "# что здесь происходит?\n",
    "words = ['He', 'evolves', 'fast', 'slowly']\n",
    "\n",
    "sentence = reduce(\n",
    "    lambda x, y: x + ' ' + y if x[-1] == y[0] else x, words)\n",
    "sentence"
   ]
  },
  {
   "cell_type": "markdown",
   "metadata": {},
   "source": [
    "### Еще элементы декларативного программирования в Python"
   ]
  },
  {
   "cell_type": "code",
   "execution_count": 72,
   "metadata": {},
   "outputs": [
    {
     "name": "stdout",
     "output_type": "stream",
     "text": [
      "<zip object at 0x0000021B20F999C0>\n",
      "[('John', 'm', 27), ('Pete', 'm', 21), ('Sue', 'f', 25), ('Bob', 'm', 24), ('Alice', 'f', 23)]\n"
     ]
    }
   ],
   "source": [
    "# демонстрация функции zip()\n",
    "\n",
    "name = ['John', 'Pete', 'Sue', 'Bob', 'Alice']\n",
    "sex = ['m', 'm', 'f', 'm', 'f']\n",
    "age = [27, 21, 25, 24, 23]\n",
    "\n",
    "students = zip(name, sex, age)\n",
    "print(students)\n",
    "students = list(students)\n",
    "print(students)"
   ]
  },
  {
   "cell_type": "code",
   "execution_count": 73,
   "metadata": {},
   "outputs": [
    {
     "name": "stdout",
     "output_type": "stream",
     "text": [
      "Help on built-in function any in module builtins:\n",
      "\n",
      "any(iterable, /)\n",
      "    Return True if bool(x) is True for any x in the iterable.\n",
      "    \n",
      "    If the iterable is empty, return False.\n",
      "\n",
      "Help on built-in function all in module builtins:\n",
      "\n",
      "all(iterable, /)\n",
      "    Return True if bool(x) is True for all values x in the iterable.\n",
      "    \n",
      "    If the iterable is empty, return True.\n",
      "\n"
     ]
    }
   ],
   "source": [
    "# удобные и полезные функции any() и all():\n",
    "help(any)\n",
    "help(all)"
   ]
  },
  {
   "cell_type": "code",
   "execution_count": 74,
   "metadata": {},
   "outputs": [
    {
     "data": {
      "text/plain": [
       "True"
      ]
     },
     "execution_count": 74,
     "metadata": {},
     "output_type": "execute_result"
    }
   ],
   "source": [
    "any(s[2] > 25 for s in students)"
   ]
  },
  {
   "cell_type": "code",
   "execution_count": 75,
   "metadata": {},
   "outputs": [
    {
     "data": {
      "text/plain": [
       "False"
      ]
     },
     "execution_count": 75,
     "metadata": {},
     "output_type": "execute_result"
    }
   ],
   "source": [
    "all(s[2] < 25 for s in students)"
   ]
  },
  {
   "cell_type": "code",
   "execution_count": 76,
   "metadata": {},
   "outputs": [
    {
     "data": {
      "text/plain": [
       "True"
      ]
     },
     "execution_count": 76,
     "metadata": {},
     "output_type": "execute_result"
    }
   ],
   "source": [
    "all(s[2] < 30 for s in students)"
   ]
  },
  {
   "cell_type": "code",
   "execution_count": 77,
   "metadata": {},
   "outputs": [
    {
     "name": "stdout",
     "output_type": "stream",
     "text": [
      "27\n",
      "Alice\n"
     ]
    }
   ],
   "source": [
    "print(max(s[2] for s in students))\n",
    "print(min(s[0] for s in students))"
   ]
  },
  {
   "cell_type": "markdown",
   "metadata": {},
   "source": [
    "Продолжим рассмотрение возможностей модуля <b>itertools</b>, начатое в предыдущей лекции"
   ]
  },
  {
   "cell_type": "code",
   "execution_count": 78,
   "metadata": {},
   "outputs": [
    {
     "data": {
      "text/plain": [
       "[('Pete', 'm', 21), ('Sue', 'f', 25)]"
      ]
     },
     "execution_count": 78,
     "metadata": {},
     "output_type": "execute_result"
    }
   ],
   "source": [
    "from itertools import islice\n",
    "\n",
    "list(islice(students, 1, 3))"
   ]
  },
  {
   "cell_type": "code",
   "execution_count": 79,
   "metadata": {},
   "outputs": [
    {
     "data": {
      "text/plain": [
       "[('John', 'm', 27), ('Pete', 'm', 21)]"
      ]
     },
     "execution_count": 79,
     "metadata": {},
     "output_type": "execute_result"
    }
   ],
   "source": [
    "from itertools import takewhile\n",
    "\n",
    "some = takewhile(lambda s: len(s[0]) > 3, students)\n",
    "list(some)"
   ]
  },
  {
   "cell_type": "code",
   "execution_count": 80,
   "metadata": {},
   "outputs": [
    {
     "data": {
      "text/plain": [
       "[('Sue', 'f', 25), ('Bob', 'm', 24), ('Alice', 'f', 23)]"
      ]
     },
     "execution_count": 80,
     "metadata": {},
     "output_type": "execute_result"
    }
   ],
   "source": [
    "from itertools import dropwhile\n",
    "\n",
    "some = dropwhile(lambda s: len(s[0]) > 3, students)\n",
    "list(some)"
   ]
  },
  {
   "cell_type": "code",
   "execution_count": 81,
   "metadata": {},
   "outputs": [
    {
     "name": "stdout",
     "output_type": "stream",
     "text": [
      "[('Sue', 'f', 25), ('Alice', 'f', 23)]\n",
      "[('John', 'm', 27), ('Pete', 'm', 21), ('Bob', 'm', 24)]\n"
     ]
    }
   ],
   "source": [
    "from itertools import groupby\n",
    "\n",
    "students = sorted(students, key=lambda s: s[1])\n",
    "\n",
    "for sex, info in groupby(students, lambda s: s[1]):\n",
    "    print(list(info))"
   ]
  },
  {
   "cell_type": "markdown",
   "metadata": {},
   "source": [
    "В данном файле приводится сравнение кодов решения задач с помощью Python, C# LINQ и Java 8 Streams:\n",
    "\n",
    "[Декларативная парадигма в Python, C# и Java (слайды)](../slides/Declarative Python, CSharp, Java.pdf)\n",
    "\n",
    "Содержимое слайдов подробно разбирается на лекции."
   ]
  },
  {
   "cell_type": "markdown",
   "metadata": {},
   "source": [
    "### Декораторы"
   ]
  },
  {
   "cell_type": "code",
   "execution_count": 82,
   "metadata": {},
   "outputs": [
    {
     "name": "stdout",
     "output_type": "stream",
     "text": [
      "The truth will set you free\n",
      "(c) Wise man\n"
     ]
    }
   ],
   "source": [
    "def copyright(func):\n",
    "    \n",
    "    def _wrapper():\n",
    "        func()\n",
    "        print('(c) Wise man')\n",
    "\n",
    "    # декоратор возвращает функцию (callable)\n",
    "    return _wrapper\n",
    "\n",
    "\n",
    "# декорируем функцию\n",
    "@copyright\n",
    "def print_slogan():\n",
    "    print('The truth will set you free')\n",
    "\n",
    "    \n",
    "print_slogan()\n",
    "\n",
    "# происходит такой вызов:\n",
    "# copyright(print_slogan)()"
   ]
  },
  {
   "cell_type": "code",
   "execution_count": 83,
   "metadata": {},
   "outputs": [
    {
     "data": {
      "text/plain": [
       "'Result: 10'"
      ]
     },
     "execution_count": 83,
     "metadata": {},
     "output_type": "execute_result"
    }
   ],
   "source": [
    "# пример декоратора функции, имеющей параметры:\n",
    "\n",
    "def stringify(func):\n",
    "    \n",
    "    def _wrapper(*args, **kwargs):\n",
    "        # преобразуем каждый аргумент функции к строке\n",
    "        str_args = [str(arg) for arg in args]\n",
    "        # вызовем исходную функцию со строковыми аргументами\n",
    "        return func(*str_args, **kwargs)\n",
    "        \n",
    "    return _wrapper\n",
    "\n",
    "\n",
    "# декорируем функцию\n",
    "@stringify\n",
    "def concat(x, y):\n",
    "    return x + y\n",
    "\n",
    "\n",
    "concat('Result: ', 10)\n",
    "\n",
    "# происходит такой вызов:\n",
    "# stringify(concat)('OK', 10)\n",
    "\n",
    "# если убрать декоратор @stringify, при вызове будет ошибка"
   ]
  },
  {
   "cell_type": "code",
   "execution_count": 84,
   "metadata": {},
   "outputs": [
    {
     "name": "stdout",
     "output_type": "stream",
     "text": [
      "_wrapper\n",
      "stringify.<locals>._wrapper\n"
     ]
    }
   ],
   "source": [
    "# Однакож:\n",
    "print(concat.__name__)\n",
    "print(concat.__qualname__)\n",
    "\n",
    "# хотелось бы увидеть тут 'concat'..."
   ]
  },
  {
   "cell_type": "code",
   "execution_count": 85,
   "metadata": {},
   "outputs": [
    {
     "name": "stdout",
     "output_type": "stream",
     "text": [
      "baz\n"
     ]
    }
   ],
   "source": [
    "# можно сделать что-то вроде этого:\n",
    "\n",
    "def decorate(func):\n",
    "    def _wrapped(*args, **kwargs):\n",
    "        return func(args, kwargs)\n",
    "    \n",
    "    # явно скопировать необходимые переменные\n",
    "    _wrapped.__name__ = func.__name__\n",
    "    \n",
    "    return _wrapped\n",
    "\n",
    "\n",
    "@decorate\n",
    "def baz():\n",
    "    return 'baz'\n",
    "\n",
    "\n",
    "print(baz.__name__)"
   ]
  },
  {
   "cell_type": "code",
   "execution_count": 86,
   "metadata": {},
   "outputs": [
    {
     "name": "stdout",
     "output_type": "stream",
     "text": [
      "Result: 10\n",
      "concat\n",
      "concat\n"
     ]
    }
   ],
   "source": [
    "# но в Python есть для этого functools.wraps:\n",
    "\n",
    "import functools\n",
    "\n",
    "def stringify(func):\n",
    "    \n",
    "    @functools.wraps(func)\n",
    "    def _wrapper(*args, **kwargs):\n",
    "        # преобразуем каждый аргумент функции к строке\n",
    "        str_args = [str(arg) for arg in args]\n",
    "        # вызовем исходную функцию со строковыми аргументами\n",
    "        return func(*str_args, **kwargs)\n",
    "        \n",
    "    return _wrapper\n",
    "\n",
    "\n",
    "# декорируем функцию\n",
    "@stringify\n",
    "def concat(x, y):\n",
    "    return x + y\n",
    "\n",
    "\n",
    "print(concat('Result: ', 10))\n",
    "\n",
    "print(concat.__name__)\n",
    "print(concat.__qualname__)"
   ]
  },
  {
   "cell_type": "code",
   "execution_count": 87,
   "metadata": {},
   "outputs": [
    {
     "name": "stdout",
     "output_type": "stream",
     "text": [
      "The truth will set you free\n",
      "(c) 2016 - Wise man\n"
     ]
    }
   ],
   "source": [
    "# параметризированный декоратор\n",
    "# (простейший способ его сделать - написать замыкание)\n",
    "\n",
    "def copyright(year):\n",
    "    \n",
    "    def _decorator(func):\n",
    "        \n",
    "        def _wrapper(*args, **kwargs):\n",
    "            func(*args, **kwargs)\n",
    "            print('(c) {} - Wise man'.format(year))\n",
    "            \n",
    "        return _wrapper\n",
    "    \n",
    "    return _decorator\n",
    "\n",
    "\n",
    "@copyright(2016)\n",
    "def print_slogan():\n",
    "    print('The truth will set you free')\n",
    "    \n",
    "    \n",
    "print_slogan()    "
   ]
  },
  {
   "cell_type": "markdown",
   "metadata": {},
   "source": [
    "PS. Реализовать декоратор можно также с помощью класса с magic-методом ```__call__()```.\n",
    "\n",
    "Здесь очень хорошо и подробно расписаны тонкости декораторов:\n",
    "\n",
    "https://github.com/GrahamDumpleton/wrapt/tree/develop/blog"
   ]
  },
  {
   "cell_type": "markdown",
   "metadata": {},
   "source": [
    "### Модуль functools"
   ]
  },
  {
   "cell_type": "code",
   "execution_count": 88,
   "metadata": {},
   "outputs": [
    {
     "data": {
      "text/plain": [
       "['RLock',\n",
       " 'WRAPPER_ASSIGNMENTS',\n",
       " 'WRAPPER_UPDATES',\n",
       " '_CacheInfo',\n",
       " '_HashedSeq',\n",
       " '_NOT_FOUND',\n",
       " '__all__',\n",
       " '__builtins__',\n",
       " '__cached__',\n",
       " '__doc__',\n",
       " '__file__',\n",
       " '__loader__',\n",
       " '__name__',\n",
       " '__package__',\n",
       " '__spec__',\n",
       " '_c3_merge',\n",
       " '_c3_mro',\n",
       " '_compose_mro',\n",
       " '_convert',\n",
       " '_find_impl',\n",
       " '_ge_from_gt',\n",
       " '_ge_from_le',\n",
       " '_ge_from_lt',\n",
       " '_gt_from_ge',\n",
       " '_gt_from_le',\n",
       " '_gt_from_lt',\n",
       " '_initial_missing',\n",
       " '_le_from_ge',\n",
       " '_le_from_gt',\n",
       " '_le_from_lt',\n",
       " '_lru_cache_wrapper',\n",
       " '_lt_from_ge',\n",
       " '_lt_from_gt',\n",
       " '_lt_from_le',\n",
       " '_make_key',\n",
       " '_unwrap_partial',\n",
       " 'cached_property',\n",
       " 'cmp_to_key',\n",
       " 'get_cache_token',\n",
       " 'lru_cache',\n",
       " 'namedtuple',\n",
       " 'partial',\n",
       " 'partialmethod',\n",
       " 'recursive_repr',\n",
       " 'reduce',\n",
       " 'singledispatch',\n",
       " 'singledispatchmethod',\n",
       " 'total_ordering',\n",
       " 'update_wrapper',\n",
       " 'wraps']"
      ]
     },
     "execution_count": 88,
     "metadata": {},
     "output_type": "execute_result"
    }
   ],
   "source": [
    "# модуль мал, да удал (wraps и reduce уже рассмотрены)\n",
    "import functools\n",
    "\n",
    "dir(functools)"
   ]
  },
  {
   "cell_type": "code",
   "execution_count": 89,
   "metadata": {},
   "outputs": [
    {
     "name": "stdout",
     "output_type": "stream",
     "text": [
      "To: joe@joe.com\n",
      "From: me@at.me\n",
      "\n",
      "Wazzup?\n"
     ]
    }
   ],
   "source": [
    "def prepare_email(to, sender, body):\n",
    "    return 'To: {}\\nFrom: {}\\n\\n{}'.format(to, sender, body)\n",
    "\n",
    "print(prepare_email('joe@joe.com', 'me@at.me', 'Wazzup?'))"
   ]
  },
  {
   "cell_type": "code",
   "execution_count": 90,
   "metadata": {},
   "outputs": [
    {
     "name": "stdout",
     "output_type": "stream",
     "text": [
      "To: joe@joe.com\n",
      "From: me@at.me\n",
      "\n",
      "Hello!\n"
     ]
    }
   ],
   "source": [
    "# 1) partial - \n",
    "# создание \"варианта\" функции с частью закрепленных аргументов\n",
    "\n",
    "from functools import partial\n",
    "\n",
    "standard_email = partial(prepare_email, sender='me@at.me', body='Hello!')\n",
    "\n",
    "print(standard_email('joe@joe.com'))"
   ]
  },
  {
   "cell_type": "code",
   "execution_count": 91,
   "metadata": {},
   "outputs": [
    {
     "name": "stdout",
     "output_type": "stream",
     "text": [
      "To: boss@boss.bo\n",
      "From: me@at.me\n",
      "\n",
      "Let's talk about my salary!\n"
     ]
    }
   ],
   "source": [
    "boss_email = partial(prepare_email, 'boss@boss.bo', 'me@at.me')\n",
    "\n",
    "print(boss_email('Let\\'s talk about my salary!'))"
   ]
  },
  {
   "cell_type": "code",
   "execution_count": 92,
   "metadata": {},
   "outputs": [
    {
     "name": "stdout",
     "output_type": "stream",
     "text": [
      "<function prepare_email at 0x0000021B20FD68B0>\n",
      "()\n",
      "{'sender': 'me@at.me', 'body': 'Hello!'}\n"
     ]
    }
   ],
   "source": [
    "print(standard_email.func)\n",
    "print(standard_email.args)\n",
    "print(standard_email.keywords)"
   ]
  },
  {
   "cell_type": "markdown",
   "metadata": {},
   "source": [
    "#### *Напишите свою версию ```partial```*\n",
    "\n",
    "---"
   ]
  },
  {
   "cell_type": "code",
   "execution_count": 93,
   "metadata": {},
   "outputs": [
    {
     "name": "stdout",
     "output_type": "stream",
     "text": [
      "[10, 20, 30]\n",
      "7.0\n",
      "['aaa', 'bbb']\n"
     ]
    }
   ],
   "source": [
    "# 2) singledispatch - \n",
    "# элемент обобщенного программирования в Python\n",
    "\n",
    "from functools import singledispatch\n",
    "\n",
    "@singledispatch\n",
    "def product(a, b):\n",
    "    return a * b\n",
    "    \n",
    "@product.register(list)\n",
    "@product.register(tuple)\n",
    "def _(a, b):\n",
    "    return [i * b for i in a]\n",
    "\n",
    "\n",
    "print(product([1, 2, 3], 10))\n",
    "print(product(3.5, 2))\n",
    "print(product(('a', 'b'), 3))"
   ]
  },
  {
   "cell_type": "code",
   "execution_count": 94,
   "metadata": {},
   "outputs": [
    {
     "data": {
      "text/plain": [
       "'Circle(x, y, radius)'"
      ]
     },
     "execution_count": 94,
     "metadata": {},
     "output_type": "execute_result"
    }
   ],
   "source": [
    "# 3) именованный кортеж\n",
    "\n",
    "from functools import namedtuple\n",
    "\n",
    "Circle = namedtuple('Circle', ['x', 'y', 'radius'])\n",
    "Circle.__doc__"
   ]
  },
  {
   "cell_type": "code",
   "execution_count": 95,
   "metadata": {},
   "outputs": [
    {
     "data": {
      "text/plain": [
       "15"
      ]
     },
     "execution_count": 95,
     "metadata": {},
     "output_type": "execute_result"
    }
   ],
   "source": [
    "c = Circle(15, 15, 100)\n",
    "c[1]"
   ]
  },
  {
   "cell_type": "code",
   "execution_count": 96,
   "metadata": {},
   "outputs": [
    {
     "data": {
      "text/plain": [
       "100"
      ]
     },
     "execution_count": 96,
     "metadata": {},
     "output_type": "execute_result"
    }
   ],
   "source": [
    "*center, radius = c\n",
    "radius"
   ]
  },
  {
   "cell_type": "code",
   "execution_count": 97,
   "metadata": {},
   "outputs": [
    {
     "data": {
      "text/plain": [
       "[0,\n",
       " 1,\n",
       " 1,\n",
       " 2,\n",
       " 3,\n",
       " 5,\n",
       " 8,\n",
       " 13,\n",
       " 21,\n",
       " 34,\n",
       " 55,\n",
       " 89,\n",
       " 144,\n",
       " 233,\n",
       " 377,\n",
       " 610,\n",
       " 987,\n",
       " 1597,\n",
       " 2584,\n",
       " 4181,\n",
       " 6765,\n",
       " 10946,\n",
       " 17711,\n",
       " 28657,\n",
       " 46368,\n",
       " 75025,\n",
       " 121393,\n",
       " 196418,\n",
       " 317811,\n",
       " 514229,\n",
       " 832040,\n",
       " 1346269]"
      ]
     },
     "execution_count": 97,
     "metadata": {},
     "output_type": "execute_result"
    }
   ],
   "source": [
    "# 4) мемоизация: LRU cache - Least Recently Used кеш\n",
    "\n",
    "from functools import lru_cache\n",
    "\n",
    "@lru_cache(maxsize=None)\n",
    "def fib(n):\n",
    "    if n < 2:\n",
    "        return n\n",
    "    return fib(n-1) + fib(n-2)\n",
    "\n",
    "[fib(n) for n in range(32)]"
   ]
  },
  {
   "cell_type": "code",
   "execution_count": 98,
   "metadata": {},
   "outputs": [
    {
     "data": {
      "text/plain": [
       "CacheInfo(hits=60, misses=32, maxsize=None, currsize=32)"
      ]
     },
     "execution_count": 98,
     "metadata": {},
     "output_type": "execute_result"
    }
   ],
   "source": [
    "fib.cache_info()"
   ]
  },
  {
   "cell_type": "markdown",
   "metadata": {},
   "source": [
    "### Некоторые особенности замыканий"
   ]
  },
  {
   "cell_type": "code",
   "execution_count": 99,
   "metadata": {},
   "outputs": [
    {
     "name": "stdout",
     "output_type": "stream",
     "text": [
      "HaHaHaHaHa\n",
      "HaHaHaHaHa\n",
      "HaHaHaHaHa\n",
      "HaHaHaHaHa\n",
      "HaHaHaHaHa\n"
     ]
    }
   ],
   "source": [
    "# Функция возвращает 5 функций, каждая из которых\n",
    "# в разной степени расширяет строку ее копиями:\n",
    "\n",
    "def string_extenders():\n",
    "    return [lambda x: x * i for i in range(1, 6)]\n",
    "\n",
    "# переменная i берется из скоупа замыкания\n",
    "# и к моменту вызова каждой функции она равна 5\n",
    "for extender in string_extenders():\n",
    "    print(extender('Ha'))"
   ]
  },
  {
   "cell_type": "code",
   "execution_count": 100,
   "metadata": {},
   "outputs": [
    {
     "name": "stdout",
     "output_type": "stream",
     "text": [
      "Ha\n",
      "HaHa\n",
      "HaHaHa\n",
      "HaHaHaHa\n",
      "HaHaHaHaHa\n"
     ]
    }
   ],
   "source": [
    "# чтобы обойти этот эффект, делаем копию i каждый раз\n",
    "def string_extenders():\n",
    "    return [lambda x, n=i: x * n for i in range(1, 6)]\n",
    "\n",
    "for extender in string_extenders():\n",
    "    print(extender('Ha'))"
   ]
  },
  {
   "cell_type": "code",
   "execution_count": 101,
   "metadata": {},
   "outputs": [
    {
     "name": "stdout",
     "output_type": "stream",
     "text": [
      "Ha\n",
      "HaHa\n",
      "HaHaHa\n",
      "HaHaHaHa\n",
      "HaHaHaHaHa\n"
     ]
    }
   ],
   "source": [
    "# или такой способ (в сугубо функциональном ключе):\n",
    "from functools import partial\n",
    "from operator import mul\n",
    "\n",
    "def string_extenders():\n",
    "    return [partial(mul, i) for i in range(1, 6)]\n",
    "\n",
    "for extender in string_extenders():\n",
    "    print(extender('Ha'))"
   ]
  },
  {
   "cell_type": "markdown",
   "metadata": {},
   "source": [
    "---\n",
    "\n",
    "### Подытожим:\n",
    "\n",
    "База функционального программирования:\n",
    "\n",
    "* чистые функции (pure functions) - детерменированные функции без побочных эффектов\n",
    "* lambda-функции\n",
    "* функции - это first-class объекты\n",
    "* неизменяемость объектов и потоков данных\n",
    "* рекурсии\n",
    "* ленивые вычисления (в т.ч. генераторы)\n",
    "* map, filter, reduce\n"
   ]
  },
  {
   "cell_type": "code",
   "execution_count": null,
   "metadata": {},
   "outputs": [],
   "source": []
  }
 ],
 "metadata": {
  "anaconda-cloud": {},
  "kernelspec": {
   "display_name": "Python 3",
   "language": "python",
   "name": "python3"
  },
  "language_info": {
   "codemirror_mode": {
    "name": "ipython",
    "version": 3
   },
   "file_extension": ".py",
   "mimetype": "text/x-python",
   "name": "python",
   "nbconvert_exporter": "python",
   "pygments_lexer": "ipython3",
   "version": "3.8.3"
  }
 },
 "nbformat": 4,
 "nbformat_minor": 1
}
