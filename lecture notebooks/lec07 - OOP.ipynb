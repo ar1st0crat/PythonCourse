{
 "cells": [
  {
   "cell_type": "markdown",
   "metadata": {},
   "source": [
    "### Лекция 7 - ООП в Python\n",
    "- особенности инкапсуляции, наследования и полиморфизма в Python\n",
    "- динамическое создание классов\n",
    "- метаклассы\n",
    "- ```__slots__```\n",
    "- пользовательские исключения\n",
    "- менеджеры контекста\n",
    "- глубокое копирование\n",
    "- декораторы через классы\n",
    "- класс enum\n",
    "- модуль attrs"
   ]
  },
  {
   "cell_type": "code",
   "execution_count": 1,
   "metadata": {},
   "outputs": [
    {
     "data": {
      "text/plain": [
       "['__class__',\n",
       " '__del__',\n",
       " '__delattr__',\n",
       " '__dict__',\n",
       " '__dir__',\n",
       " '__doc__',\n",
       " '__eq__',\n",
       " '__format__',\n",
       " '__ge__',\n",
       " '__getattribute__',\n",
       " '__gt__',\n",
       " '__hash__',\n",
       " '__init__',\n",
       " '__init_subclass__',\n",
       " '__le__',\n",
       " '__lt__',\n",
       " '__module__',\n",
       " '__ne__',\n",
       " '__new__',\n",
       " '__reduce__',\n",
       " '__reduce_ex__',\n",
       " '__repr__',\n",
       " '__setattr__',\n",
       " '__sizeof__',\n",
       " '__str__',\n",
       " '__subclasshook__',\n",
       " '__weakref__',\n",
       " 'gcd',\n",
       " 'get_den',\n",
       " 'get_num',\n",
       " 'reduce',\n",
       " 'set_den',\n",
       " 'set_num']"
      ]
     },
     "execution_count": 1,
     "metadata": {},
     "output_type": "execute_result"
    }
   ],
   "source": [
    "from classes.fractions import VerySimpleFraction\n",
    "\n",
    "# посмотрим, что есть в КЛАССЕ\n",
    "dir(VerySimpleFraction)"
   ]
  },
  {
   "cell_type": "code",
   "execution_count": 2,
   "metadata": {},
   "outputs": [
    {
     "data": {
      "text/plain": [
       "['_VerySimpleFraction__den',\n",
       " '_VerySimpleFraction__num',\n",
       " '__class__',\n",
       " '__del__',\n",
       " '__delattr__',\n",
       " '__dict__',\n",
       " '__dir__',\n",
       " '__doc__',\n",
       " '__eq__',\n",
       " '__format__',\n",
       " '__ge__',\n",
       " '__getattribute__',\n",
       " '__gt__',\n",
       " '__hash__',\n",
       " '__init__',\n",
       " '__init_subclass__',\n",
       " '__le__',\n",
       " '__lt__',\n",
       " '__module__',\n",
       " '__ne__',\n",
       " '__new__',\n",
       " '__reduce__',\n",
       " '__reduce_ex__',\n",
       " '__repr__',\n",
       " '__setattr__',\n",
       " '__sizeof__',\n",
       " '__str__',\n",
       " '__subclasshook__',\n",
       " '__weakref__',\n",
       " 'gcd',\n",
       " 'get_den',\n",
       " 'get_num',\n",
       " 'reduce',\n",
       " 'set_den',\n",
       " 'set_num']"
      ]
     },
     "execution_count": 2,
     "metadata": {},
     "output_type": "execute_result"
    }
   ],
   "source": [
    "f = VerySimpleFraction(3, 5)\n",
    "\n",
    "# посмотрим, что есть в ОБЪЕКТЕ\n",
    "dir(f)"
   ]
  },
  {
   "cell_type": "code",
   "execution_count": 3,
   "metadata": {},
   "outputs": [],
   "source": [
    "vf = VerySimpleFraction(12, 16)\n",
    "VerySimpleFraction.reduce(vf)"
   ]
  },
  {
   "cell_type": "code",
   "execution_count": 5,
   "metadata": {},
   "outputs": [
    {
     "data": {
      "text/plain": [
       "4.0"
      ]
     },
     "execution_count": 5,
     "metadata": {},
     "output_type": "execute_result"
    }
   ],
   "source": [
    "vf.get_den()"
   ]
  },
  {
   "cell_type": "code",
   "execution_count": 3,
   "metadata": {},
   "outputs": [
    {
     "name": "stdout",
     "output_type": "stream",
     "text": [
      "<class 'classes.fractions.VerySimpleFraction'>\n",
      " Класс для представления обыкновенных дробей (первая версия) \n",
      "<classes.fractions.VerySimpleFraction object at 0x7f70d4533c50>\n"
     ]
    }
   ],
   "source": [
    "print(f.__class__)\n",
    "print(f.__doc__)\n",
    "print(repr(f))"
   ]
  },
  {
   "cell_type": "code",
   "execution_count": 4,
   "metadata": {},
   "outputs": [
    {
     "name": "stdout",
     "output_type": "stream",
     "text": [
      "3/5\n"
     ]
    }
   ],
   "source": [
    "print('%d/%d' % (f.get_num(), f.get_den()))"
   ]
  },
  {
   "cell_type": "code",
   "execution_count": 5,
   "metadata": {},
   "outputs": [
    {
     "data": {
      "text/plain": [
       "12"
      ]
     },
     "execution_count": 5,
     "metadata": {},
     "output_type": "execute_result"
    }
   ],
   "source": [
    "# вызов статического метода\n",
    "VerySimpleFraction.gcd(60, 144)"
   ]
  },
  {
   "cell_type": "code",
   "execution_count": 6,
   "metadata": {},
   "outputs": [
    {
     "name": "stdout",
     "output_type": "stream",
     "text": [
      "25\n"
     ]
    }
   ],
   "source": [
    "f.red = 25\n",
    "print(f.red)\n",
    "\n",
    "del f.red\n",
    "# print(f.red)"
   ]
  },
  {
   "cell_type": "code",
   "execution_count": 7,
   "metadata": {},
   "outputs": [
    {
     "name": "stdout",
     "output_type": "stream",
     "text": [
      "5\n",
      "5\n"
     ]
    }
   ],
   "source": [
    "from classes.fractions import Fraction\n",
    "\n",
    "f1 = Fraction(1, 5)\n",
    "f2 = Fraction()\n",
    "f2.num = 2\n",
    "f2.den = 5\n",
    "print(f2.den)\n",
    "print(f2['den'])"
   ]
  },
  {
   "cell_type": "code",
   "execution_count": 8,
   "metadata": {},
   "outputs": [
    {
     "name": "stdout",
     "output_type": "stream",
     "text": [
      "deleted\n",
      "3/5\n"
     ]
    }
   ],
   "source": [
    "f = f1 + f2  # перегрузка '+'     __add__\n",
    "print(f)     # перегрузка 'str'   __str__\n",
    "\n",
    "# т.к. f присваивается новое значение, старый удалится"
   ]
  },
  {
   "cell_type": "code",
   "execution_count": 9,
   "metadata": {},
   "outputs": [
    {
     "data": {
      "text/plain": [
       "8"
      ]
     },
     "execution_count": 9,
     "metadata": {},
     "output_type": "execute_result"
    }
   ],
   "source": [
    "# перегрузка 'len' __len__\n",
    "len(f)"
   ]
  },
  {
   "cell_type": "code",
   "execution_count": 10,
   "metadata": {},
   "outputs": [
    {
     "name": "stdout",
     "output_type": "stream",
     "text": [
      "sub fraction\n"
     ]
    }
   ],
   "source": [
    "# перегрузка 'in' __contains__\n",
    "if f1 in f2:\n",
    "    print('sub fraction')"
   ]
  },
  {
   "cell_type": "code",
   "execution_count": 11,
   "metadata": {},
   "outputs": [
    {
     "data": {
      "text/plain": [
       "True"
      ]
     },
     "execution_count": 11,
     "metadata": {},
     "output_type": "execute_result"
    }
   ],
   "source": [
    "f1 < f2"
   ]
  },
  {
   "cell_type": "code",
   "execution_count": 12,
   "metadata": {},
   "outputs": [
    {
     "name": "stdout",
     "output_type": "stream",
     "text": [
      "The number of instances is equal to 3\n"
     ]
    }
   ],
   "source": [
    "print('The number of instances is equal to {}'.format(Fraction.count))"
   ]
  },
  {
   "cell_type": "markdown",
   "metadata": {},
   "source": [
    "#### new-style classes\n",
    "\n",
    "- в Python2 наследоваться от object\n",
    "- в Python3-классы - сразу new style (от object наследоваться все равно желательно)\n",
    "\n",
    "Новоявленные свойства new-style классов:\n",
    "- низкоуровневые конструкторы ```__new__()```\n",
    "- дескрипторы, обощенный способ настройки доступа к атрибуту\n",
    "- статические методы и class методы\n",
    "- свойства (вычисляемые атрибуты)\n",
    "- декораторы\n",
    "- слоты\n",
    "- новый порядок Method Resolution Order (MRO)"
   ]
  },
  {
   "cell_type": "markdown",
   "metadata": {},
   "source": [
    "### magic methods cool guide:\n",
    "\n",
    "http://www.rafekettler.com/magicmethods.html"
   ]
  },
  {
   "cell_type": "markdown",
   "metadata": {},
   "source": [
    "<table>\n",
    "<thead>\n",
    "<tr>\n",
    "<th>Magic метод</th>\n",
    "<th>Когда вызывается (пример)</th>\n",
    "<th>Пояснение</th>\n",
    "</tr>\n",
    "</thead>\n",
    "<tbody>\n",
    "<tr>\n",
    "<td>```__new__(cls [,...])```</td>\n",
    "<td><code>instance = MyClass(arg1, arg2)</code></td>\n",
    "<td>```__new__``` вызывается при создании объекта</td>\n",
    "</tr>\n",
    "<tr>\n",
    "<td>```__init__(self [,...])```</td>\n",
    "<td><code>instance = MyClass(arg1, arg2)</code></td>\n",
    "<td>```__init__``` вызывается при инициализации объекта</td>\n",
    "</tr>\n",
    "<tr>\n",
    "<td>```__cmp__(self, other)```</td>\n",
    "<td><code>self == other</code>, <code>self &gt; other</code> и т.д.</td>\n",
    "<td>Вызывается при любых сравнениях</td>\n",
    "</tr>\n",
    "<tr>\n",
    "<td>```__pos__(self)```</td>\n",
    "<td><code>+self</code></td>\n",
    "<td>Унарный плюс</td>\n",
    "</tr>\n",
    "<tr>\n",
    "<td>```__neg__(self)```</td>\n",
    "<td><code>-self</code></td>\n",
    "<td>Унарный минус</td>\n",
    "</tr>\n",
    "<tr>\n",
    "<td>```__invert__(self)```</td>\n",
    "<td><code>~self</code></td>\n",
    "<td>Побитовая инверсия</td>\n",
    "</tr>\n",
    "<tr>\n",
    "<td>```__index__(self)```</td>\n",
    "<td><code>x[self]</code></td>\n",
    "<td>Вызывается при использовании объекта в качестве индекса</td>\n",
    "</tr>\n",
    "<tr>\n",
    "<td>```__nonzero__(self)```</td>\n",
    "<td><code>bool(self)</code></td>\n",
    "<td>Булевское значение объекта</td>\n",
    "</tr>\n",
    "<tr>\n",
    "<td>```__getattr__(self, name)```</td>\n",
    "<td><code>self.name # имени не существует</code></td>\n",
    "<td>Доступ к несуществующему атрибуту</td>\n",
    "</tr>\n",
    "<tr>\n",
    "<td>```__setattr__(self, name, val)```</td>\n",
    "<td><code>self.name = val</code></td>\n",
    "<td>Присваивание атрибуту</td>\n",
    "</tr>\n",
    "<tr>\n",
    "<td>```__delattr__(self, name)```</td>\n",
    "<td><code>del self.name</code></td>\n",
    "<td>Удаление атрибута</td>\n",
    "</tr>\n",
    "<tr>\n",
    "<td>```__getattribute__(self, name)```</td>\n",
    "<td><code>self.name</code></td>\n",
    "<td>Доступ к любому атрибуту</td>\n",
    "</tr>\n",
    "<tr>\n",
    "<td>```__getitem__(self, key)```</td>\n",
    "<td><code>self[key]</code></td>\n",
    "<td>Доступ к элементу по индексу</td>\n",
    "</tr>\n",
    "<tr>\n",
    "<td>```__setitem__(self, key, val)```</td>\n",
    "<td><code>self[key] = val</code></td>\n",
    "<td>Присвоение элементу значения по индексу</td>\n",
    "</tr>\n",
    "<tr>\n",
    "<td>```__delitem__(self, key)```</td>\n",
    "<td><code>del self[key]</code></td>\n",
    "<td>Удаление элемента по индексу</td>\n",
    "</tr>\n",
    "<tr>\n",
    "<td>```__iter__(self)```</td>\n",
    "<td><code>for x in self</code></td>\n",
    "<td>Итерация по объекту как по последовательности</td>\n",
    "</tr>\n",
    "<tr>\n",
    "<td>```__contains__(self, value)```</td>\n",
    "<td><code>value in self</code>, <code>value not in self</code></td>\n",
    "<td>Проверка на вхождение в объект</td>\n",
    "</tr>\n",
    "<tr>\n",
    "<td>```__call__(self [,...])```</td>\n",
    "<td><code>self(args)</code></td>\n",
    "<td>\"Вызов\" объекта</td>\n",
    "</tr>\n",
    "<tr>\n",
    "<td>```__enter__(self)```</td>\n",
    "<td><code>with self as x:</code></td>\n",
    "<td><code>with</code>-менеджеры контекста (вход)</td>\n",
    "</tr>\n",
    "<tr>\n",
    "<td>```__exit__(self, exc, val, trace)```</td>\n",
    "<td><code>with self as x:</code></td>\n",
    "<td><code>with</code>-менеджеры контекста (завершение)</td>\n",
    "</tr>\n",
    "<tr>\n",
    "<td>```__getstate__(self)```</td>\n",
    "<td><code>pickle.dump(pkl_file, self)</code></td>\n",
    "<td>Pickle-сериализация</td>\n",
    "</tr>\n",
    "<tr>\n",
    "<td>```__setstate__(self)```</td>\n",
    "<td><code>data = pickle.load(pkl_file)</code></td>\n",
    "<td>Pickle-десериализация</td>\n",
    "</tr>\n",
    "</tbody>\n",
    "</table>"
   ]
  },
  {
   "cell_type": "markdown",
   "metadata": {},
   "source": [
    "#### Наследование и утиная типизация"
   ]
  },
  {
   "cell_type": "code",
   "execution_count": 13,
   "metadata": {},
   "outputs": [
    {
     "name": "stdout",
     "output_type": "stream",
     "text": [
      "The QRcode was scaled at 100 x 100\n",
      "lalalala\n",
      "The QRcode was scaled at 100 x 100\n",
      "The Barcode was scaled at 100 x 100\n",
      "The Label was scaled at 100 x 100\n"
     ]
    }
   ],
   "source": [
    "from classes.labels import Label, Barcode, QRcode\n",
    "\n",
    "qr = QRcode()\n",
    "qr.filename = 'aaa.jpg'     # setting property\n",
    "\n",
    "code = qr.recognize()\n",
    "print(code)\n",
    "\n",
    "images = [qr, Barcode(), Label(300, 300)]\n",
    "for im in images:\n",
    "    im.scale(100, 100)      # duck typing"
   ]
  },
  {
   "cell_type": "markdown",
   "metadata": {},
   "source": [
    "<hr/>\n",
    "\n",
    "Что хотим сделать (аналог на C#)\n",
    "```\n",
    "interface IParser\n",
    "{\n",
    "\tvoid Load();\n",
    "\tstring Parse();\t\n",
    "}\n",
    "\n",
    "class XMLParser : IParser\n",
    "{\n",
    "\tvoid Load() { ... }\n",
    "\tstring Parse() { ... }\n",
    "}\n",
    "\n",
    "class JSONParser : IParser\n",
    "{\n",
    "\tvoid Load() { ... }\n",
    "\tstring Parse() { ... }\n",
    "}\n",
    "```"
   ]
  },
  {
   "cell_type": "code",
   "execution_count": 14,
   "metadata": {},
   "outputs": [
    {
     "name": "stdout",
     "output_type": "stream",
     "text": [
      "Parsing JSON: a.json\n",
      "Parsing XML: a.xml\n",
      "foo... hahaha\n"
     ]
    }
   ],
   "source": [
    "from classes.parsers import XMLParser, JSONParser, StringParser\n",
    "from classes.parsers import ParserFactory\n",
    "\n",
    "p1 = JSONParser()\n",
    "p1.load('a.json')\n",
    "\n",
    "p2 = XMLParser()\n",
    "p2.load('a.xml')\n",
    "\n",
    "parsers = [p1, p2, StringParser('hahaha')]\n",
    "\n",
    "for parser in parsers:\n",
    "    parser.parse()        # duck typing"
   ]
  },
  {
   "cell_type": "code",
   "execution_count": 15,
   "metadata": {},
   "outputs": [
    {
     "name": "stdout",
     "output_type": "stream",
     "text": [
      "Parsing JSON: 111.json\n"
     ]
    }
   ],
   "source": [
    "# демонстрация ParserFactory\n",
    "\n",
    "filename = \"111.json\"\n",
    "# а потом попробуем\n",
    "# filename = \"111.xml\"\n",
    "\n",
    "factory = ParserFactory()\n",
    "parser = factory.create_parser(filename)\n",
    "\n",
    "parser.parse()"
   ]
  },
  {
   "cell_type": "markdown",
   "metadata": {},
   "source": [
    "#### Динамическое создание классов и метаклассы"
   ]
  },
  {
   "cell_type": "code",
   "execution_count": 16,
   "metadata": {},
   "outputs": [
    {
     "name": "stdout",
     "output_type": "stream",
     "text": [
      "vasya\n",
      "22\n"
     ]
    },
    {
     "data": {
      "text/plain": [
       "['__class__',\n",
       " '__delattr__',\n",
       " '__dict__',\n",
       " '__dir__',\n",
       " '__doc__',\n",
       " '__eq__',\n",
       " '__format__',\n",
       " '__ge__',\n",
       " '__getattribute__',\n",
       " '__gt__',\n",
       " '__hash__',\n",
       " '__init__',\n",
       " '__init_subclass__',\n",
       " '__le__',\n",
       " '__lt__',\n",
       " '__module__',\n",
       " '__ne__',\n",
       " '__new__',\n",
       " '__reduce__',\n",
       " '__reduce_ex__',\n",
       " '__repr__',\n",
       " '__setattr__',\n",
       " '__sizeof__',\n",
       " '__str__',\n",
       " '__subclasshook__',\n",
       " '__weakref__',\n",
       " 'age',\n",
       " 'calc',\n",
       " 'name']"
      ]
     },
     "execution_count": 16,
     "metadata": {},
     "output_type": "execute_result"
    }
   ],
   "source": [
    "Person = type('Person', (object,), \n",
    "              {'name': 'vasya', \n",
    "               'age': 21, \n",
    "               'calc': lambda self: self.age + 1})\n",
    "p = Person()\n",
    "print(p.name)\n",
    "print(p.calc())\n",
    "\n",
    "# class Person(object):\n",
    "#     def __init__(self):\n",
    "#         self.name = 'vasya'\n",
    "#         self.age = 21\n",
    "#\n",
    "#     def calc(self):\n",
    "#         self.age += 1\n",
    "#\n",
    "\n",
    "dir(p)"
   ]
  },
  {
   "cell_type": "code",
   "execution_count": 17,
   "metadata": {},
   "outputs": [],
   "source": [
    "# Пример метакласса\n",
    "# http://eli.thegreenplace.net/2011/08/14/python-metaclasses-by-example\n",
    "\n",
    "class PointMeta(type):\n",
    "    def __new__(meta, name, bases, dct):\n",
    "        print('-----------------------------------')\n",
    "        print('Allocating memory for class', name)\n",
    "        print(meta)\n",
    "        print(bases)\n",
    "        print(dct)\n",
    "        return super(PointMeta, meta).__new__(meta, name, bases, dct)\n",
    "    \n",
    "    def __init__(cls, name, bases, dct):\n",
    "        print('\\n-----------------------------------')\n",
    "        print('Initializing class', name)\n",
    "        print(cls)\n",
    "        print(bases)\n",
    "        print(dct)\n",
    "        super(PointMeta, cls).__init__(name, bases, dct)\n",
    "        \n",
    "    def __call__(cls, *args, **kwds):\n",
    "        print('__call__ of ', str(cls))\n",
    "        print('__call__ *args=', str(args))\n",
    "        print()\n",
    "        return type.__call__(cls, *args, **kwds)"
   ]
  },
  {
   "cell_type": "code",
   "execution_count": 18,
   "metadata": {},
   "outputs": [
    {
     "name": "stdout",
     "output_type": "stream",
     "text": [
      "-----------------------------------\n",
      "Allocating memory for class Point\n",
      "<class '__main__.PointMeta'>\n",
      "()\n",
      "{'__module__': '__main__', '__qualname__': 'Point', '__init__': <function Point.__init__ at 0x7f70d4535620>}\n",
      "\n",
      "-----------------------------------\n",
      "Initializing class Point\n",
      "<class '__main__.Point'>\n",
      "()\n",
      "{'__module__': '__main__', '__qualname__': 'Point', '__init__': <function Point.__init__ at 0x7f70d4535620>}\n",
      "__call__ of  <class '__main__.Point'>\n",
      "__call__ *args= (42, 73)\n",
      "\n",
      "Point p(42, 73)\n"
     ]
    }
   ],
   "source": [
    "class Point(metaclass=PointMeta):\n",
    "    \n",
    "    # в Python 2 пишется здесь:\n",
    "    #__metaclass__ = PointMeta\n",
    "\n",
    "    def __init__(self, x, y):\n",
    "        print('Point p({}, {})'.format(x, y))\n",
    "\n",
    "        \n",
    "pt = Point(42, 73)"
   ]
  },
  {
   "cell_type": "markdown",
   "metadata": {},
   "source": [
    "#### ```__slots__```\n",
    "\n",
    "Специальный атрибут ```__slots__``` позволяет явно указать в коде, какие атрибуты экземпляра ожидаются быть в наличии у объекта, со всеми вытекающими результатами:\n",
    "\n",
    "- более быстрый доступ к атрибуту.\n",
    "- потенциальная экономия памяти.\n",
    "\n",
    "http://stackoverflow.com/questions/472000/usage-of-slots\n",
    "\n",
    "По умолчанию, экземпляры и старых, и new-style классов хранят атрибуты в словарях. Память расходуется неэффективно, если нужно хранить всего несколько атрибутов. Особенно это становится критичным в случае хранения большого числа таких \"скромных\" объектов.\n",
    "\n",
    "Объявление в классе ```__slots__``` резервирует ровно столько памяти под атрибуты, сколько нужно для их хранения.\n",
    "\n",
    "К примеру, атрибуты ОРМ-ки SQLAlchemy эффективно хранятся в памяти благодаря тому, что реализованы через ```__slots__```."
   ]
  },
  {
   "cell_type": "code",
   "execution_count": 19,
   "metadata": {},
   "outputs": [
    {
     "name": "stdout",
     "output_type": "stream",
     "text": [
      "default\n",
      "100\n"
     ]
    }
   ],
   "source": [
    "class SmallObject(object):\n",
    "    \n",
    "    __slots__ = ['_width', '_height', '_path']\n",
    "    \n",
    "    def __init__(self):\n",
    "        self._width = 10\n",
    "        self._height = 10\n",
    "        self._path = 'default'\n",
    "    \n",
    "    @property\n",
    "    def size(self):\n",
    "        return self._width * self._height\n",
    "    \n",
    "    @property\n",
    "    def path(self):\n",
    "        return self._path\n",
    "        \n",
    "\n",
    "obj = SmallObject()\n",
    "print(obj.path)\n",
    "print(obj.size)"
   ]
  },
  {
   "cell_type": "markdown",
   "metadata": {},
   "source": [
    "#### Пример пользовательского исключения"
   ]
  },
  {
   "cell_type": "code",
   "execution_count": 20,
   "metadata": {},
   "outputs": [
    {
     "name": "stdout",
     "output_type": "stream",
     "text": [
      "Filesize is too big: 34224 bytes\n"
     ]
    }
   ],
   "source": [
    "class FileTooBigError(Exception):\n",
    "\n",
    "    def __init__(self, filesize):\n",
    "        super(FileTooBigError, self).__init__(\n",
    "            'Filesize is too big: {} bytes'.format(filesize))\n",
    "        self._filesize = filesize\n",
    "\n",
    "    # если __str__() должен возвращать просто сообщение message, \n",
    "    # то метод можно не определять \n",
    "    # (по умолчанию, строковое представление Exception - и так message)\n",
    "    # def __str__(self):\n",
    "    #    return self.message\n",
    "\n",
    "\n",
    "import os\n",
    "\n",
    "filesize = os.path.getsize(r'lec01 - Intro.ipynb')\n",
    "\n",
    "try:\n",
    "    if filesize > 4096:\n",
    "        raise FileTooBigError(filesize)\n",
    "except FileTooBigError as err:\n",
    "    print(err)"
   ]
  },
  {
   "cell_type": "markdown",
   "metadata": {},
   "source": [
    "#### Менеджеры контекста"
   ]
  },
  {
   "cell_type": "code",
   "execution_count": 21,
   "metadata": {},
   "outputs": [
    {
     "name": "stdout",
     "output_type": "stream",
     "text": [
      "Log file is ready\n",
      "Ping failed! Wrong IP format: f.2.3.4\n",
      "Log file is closed\n"
     ]
    }
   ],
   "source": [
    "# ПЕРВЫЙ СПОСОБ:\n",
    "\n",
    "class PingContext(object):\n",
    "\n",
    "    def __enter__(self):\n",
    "        self._log = open(r'data/log.txt', 'wt')\n",
    "        print('Log file is ready')\n",
    "        return self\n",
    "\n",
    "    def write(self, text):\n",
    "        self._log.write(text)\n",
    "    \n",
    "    def __exit__(self, exc_type, exc_value, exc_traceback):\n",
    "        if exc_value != None:\n",
    "            print('Ping failed! Wrong IP format: %s' % exc_value)\n",
    "            # подчистить ресурсы, которыми владеет контекст\n",
    "        self._log.close()\n",
    "        print('Log file is closed')    \n",
    "        return True\n",
    "        #return False          # если False, то заново бросается Exception\n",
    "                               # (и надо будет перехватывать во внешнем коде)\n",
    "\n",
    "\n",
    "IPs = ['127.0.0.1', '0.0.0.0', '1.1.1.1', '10.0.0.1', 'f.2.3.4', '192.168.0.102']\n",
    "\n",
    "# регулярка для простейшей проверки валидности IP-адреса\n",
    "import re\n",
    "regex = re.compile(r'\\d{1,3}\\.\\d{1,3}\\.\\d{1,3}\\.\\d{1,3}')\n",
    "\n",
    "with PingContext() as log:\n",
    "    # проходим по всем записям из строк IP-адресов\n",
    "    for IP in IPs:\n",
    "        if not re.match(regex, IP):\n",
    "            raise ValueError(IP)\n",
    "        # пинг IP-адреса ...\n",
    "        # и запись в лог\n",
    "        log.write(IP + '\\n')"
   ]
  },
  {
   "cell_type": "code",
   "execution_count": 22,
   "metadata": {},
   "outputs": [
    {
     "name": "stdout",
     "output_type": "stream",
     "text": [
      "Log file is ready\n",
      "Ping failed! Wrong IP format: f.2.3.4\n",
      "Log file is closed\n"
     ]
    }
   ],
   "source": [
    "# ВТОРОЙ СПОСОБ:\n",
    "\n",
    "from contextlib import contextmanager\n",
    "\n",
    "@contextmanager\n",
    "def ping_log():\n",
    "    # __enter__\n",
    "    print('Log file is ready')\n",
    "    log = open(r'data/log.txt', 'wt')\n",
    "\n",
    "    # actions\n",
    "    try:\n",
    "        yield log\n",
    "\n",
    "    # __exit__    \n",
    "    except ValueError as err:\n",
    "        print('Ping failed! Wrong IP format: %s' % err)\n",
    "    finally:\n",
    "        log.close()\n",
    "        print('Log file is closed')\n",
    "\n",
    "\n",
    "regex = re.compile(r'\\d{1,3}\\.\\d{1,3}\\.\\d{1,3}\\.\\d{1,3}')\n",
    "\n",
    "IPs = ['127.0.0.1', '0.0.0.0', '1.1.1.1', '10.0.0.1', 'f.2.3.4', '192.168.0.102']\n",
    "\n",
    "with ping_log() as log:\n",
    "    for IP in IPs:\n",
    "        if not re.match(regex, IP):\n",
    "            raise ValueError(IP)\n",
    "        log.write(IP + '\\n')"
   ]
  },
  {
   "cell_type": "markdown",
   "metadata": {},
   "source": [
    "#### Глубокое копирование"
   ]
  },
  {
   "cell_type": "code",
   "execution_count": 23,
   "metadata": {},
   "outputs": [
    {
     "name": "stdout",
     "output_type": "stream",
     "text": [
      "[1, 'Hello', [3, 4, 5], (2, [7, 8, 9], 'x'), 12]\n",
      "[1, 'World', [3, 4, 5], (2, [7, 8, 9], 'x'), 12]\n"
     ]
    }
   ],
   "source": [
    "# демо глубокого копирования стандартных типов\n",
    "import copy\n",
    "\n",
    "l1 = [1, \"Hello\", [3,4,5], (2, [7,8,9], 'x'), 12]\n",
    "\n",
    "l2 = copy.deepcopy(l1)\n",
    "l2[1] = \"World\"\n",
    "\n",
    "print(l1)\n",
    "print(l2)"
   ]
  },
  {
   "cell_type": "code",
   "execution_count": 24,
   "metadata": {},
   "outputs": [
    {
     "name": "stdout",
     "output_type": "stream",
     "text": [
      "Fraction was deleted\n",
      "Fraction was deleted\n",
      "3/5\n",
      "3/5\n"
     ]
    }
   ],
   "source": [
    "# демо глубокого копирования объектов классов\n",
    "from fractions import Fraction\n",
    "\n",
    "f1 = Fraction(3, 5)\n",
    "f2 = copy.deepcopy(f1)  # дефолтная реализация;\n",
    "                        # ее можно переопределить в классе Fraction: \n",
    "                        # метод __deepcopy__(self, f)\n",
    "print(f1)\n",
    "print(f2)"
   ]
  },
  {
   "cell_type": "code",
   "execution_count": 25,
   "metadata": {},
   "outputs": [
    {
     "data": {
      "text/plain": [
       "['__abs__',\n",
       " '__abstractmethods__',\n",
       " '__add__',\n",
       " '__bool__',\n",
       " '__ceil__',\n",
       " '__class__',\n",
       " '__complex__',\n",
       " '__copy__',\n",
       " '__deepcopy__',\n",
       " '__delattr__',\n",
       " '__dir__',\n",
       " '__divmod__',\n",
       " '__doc__',\n",
       " '__eq__',\n",
       " '__float__',\n",
       " '__floor__',\n",
       " '__floordiv__',\n",
       " '__format__',\n",
       " '__ge__',\n",
       " '__getattribute__',\n",
       " '__gt__',\n",
       " '__hash__',\n",
       " '__init__',\n",
       " '__init_subclass__',\n",
       " '__le__',\n",
       " '__lt__',\n",
       " '__mod__',\n",
       " '__module__',\n",
       " '__mul__',\n",
       " '__ne__',\n",
       " '__neg__',\n",
       " '__new__',\n",
       " '__pos__',\n",
       " '__pow__',\n",
       " '__radd__',\n",
       " '__rdivmod__',\n",
       " '__reduce__',\n",
       " '__reduce_ex__',\n",
       " '__repr__',\n",
       " '__rfloordiv__',\n",
       " '__rmod__',\n",
       " '__rmul__',\n",
       " '__round__',\n",
       " '__rpow__',\n",
       " '__rsub__',\n",
       " '__rtruediv__',\n",
       " '__setattr__',\n",
       " '__sizeof__',\n",
       " '__slots__',\n",
       " '__str__',\n",
       " '__sub__',\n",
       " '__subclasshook__',\n",
       " '__truediv__',\n",
       " '__trunc__',\n",
       " '_abc_cache',\n",
       " '_abc_negative_cache',\n",
       " '_abc_negative_cache_version',\n",
       " '_abc_registry',\n",
       " '_add',\n",
       " '_denominator',\n",
       " '_div',\n",
       " '_mul',\n",
       " '_numerator',\n",
       " '_operator_fallbacks',\n",
       " '_richcmp',\n",
       " '_sub',\n",
       " 'conjugate',\n",
       " 'denominator',\n",
       " 'from_decimal',\n",
       " 'from_float',\n",
       " 'imag',\n",
       " 'limit_denominator',\n",
       " 'numerator',\n",
       " 'real']"
      ]
     },
     "execution_count": 25,
     "metadata": {},
     "output_type": "execute_result"
    }
   ],
   "source": [
    "# мы тоже написали ранее класс Fraction,\n",
    "# но есть стандартный класс дробей в модуле fractions:\n",
    "dir(f1)"
   ]
  },
  {
   "cell_type": "markdown",
   "metadata": {},
   "source": [
    "#### Декоратор через класс"
   ]
  },
  {
   "cell_type": "code",
   "execution_count": 26,
   "metadata": {},
   "outputs": [
    {
     "name": "stdout",
     "output_type": "stream",
     "text": [
      "===================\n",
      "decoratin' da text!\n",
      "===================\n"
     ]
    }
   ],
   "source": [
    "import functools\n",
    "\n",
    "class Prettifier(object):\n",
    "    def __init__(self, char='*'):\n",
    "        self._char = char\n",
    "        \n",
    "    def __call__(self, func):\n",
    "        def decorated(*args, **kwargs):\n",
    "            print(self._char * len(args[0]))\n",
    "            func(*args, **kwargs)\n",
    "            print(self._char * len(args[0]))\n",
    "        return decorated\n",
    "\n",
    "@Prettifier('=')\n",
    "def function(text):\n",
    "    print(text)\n",
    "    \n",
    "\n",
    "function('decoratin\\' da text!')"
   ]
  },
  {
   "cell_type": "markdown",
   "metadata": {},
   "source": [
    "#### модули enum и attrs"
   ]
  },
  {
   "cell_type": "code",
   "execution_count": 27,
   "metadata": {},
   "outputs": [
    {
     "data": {
      "text/plain": [
       "<OperatingSystem.UNIX: 1>"
      ]
     },
     "execution_count": 27,
     "metadata": {},
     "output_type": "execute_result"
    }
   ],
   "source": [
    "from enum import Enum, unique\n",
    "\n",
    "@unique\n",
    "class OperatingSystem(Enum):\n",
    "    WINDOWS = 0\n",
    "    UNIX = 1\n",
    "    MACOS = 2\n",
    "    \n",
    "OperatingSystem.UNIX"
   ]
  },
  {
   "cell_type": "code",
   "execution_count": 28,
   "metadata": {},
   "outputs": [
    {
     "name": "stdout",
     "output_type": "stream",
     "text": [
      "Windows\n"
     ]
    }
   ],
   "source": [
    "target_system = OperatingSystem.WINDOWS\n",
    "\n",
    "if target_system == OperatingSystem.WINDOWS:\n",
    "    print('Windows')"
   ]
  },
  {
   "cell_type": "code",
   "execution_count": 29,
   "metadata": {},
   "outputs": [
    {
     "name": "stdout",
     "output_type": "stream",
     "text": [
      "https://www.python.org\n",
      "8080\n",
      "['1.1.1.1', '2.2.2.2']\n"
     ]
    }
   ],
   "source": [
    "import attr\n",
    "\n",
    "@attr.s\n",
    "class TCPConnection(object):\n",
    "    ip = attr.ib(default='127.0.0.1')\n",
    "    port = attr.ib(default=8080)\n",
    "    proxies = attr.ib(default=attr.Factory(list))\n",
    "    \n",
    "\n",
    "conn = TCPConnection('https://www.python.org', proxies=['1.1.1.1', '2.2.2.2'])\n",
    "print(conn.ip)\n",
    "print(conn.port)\n",
    "print(conn.proxies)"
   ]
  }
 ],
 "metadata": {
  "anaconda-cloud": {},
  "kernelspec": {
   "display_name": "Python 3",
   "language": "python",
   "name": "python3"
  },
  "language_info": {
   "codemirror_mode": {
    "name": "ipython",
    "version": 3
   },
   "file_extension": ".py",
   "mimetype": "text/x-python",
   "name": "python",
   "nbconvert_exporter": "python",
   "pygments_lexer": "ipython3",
   "version": "3.8.3"
  }
 },
 "nbformat": 4,
 "nbformat_minor": 1
}
