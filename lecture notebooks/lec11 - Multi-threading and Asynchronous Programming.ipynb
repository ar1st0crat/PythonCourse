{
 "cells": [
  {
   "cell_type": "markdown",
   "metadata": {},
   "source": [
    "### Лекция 11 - Многопоточность и асинхронность в Python\n",
    "\n",
    "- Модуль threading\n",
    "- Механизмы синхронизации\n",
    "- Очереди, Producer/Consumer\n",
    "- Глобальная блокировка интерпретатора (GIL)\n",
    "- Асинхронность в Python\n",
    "- Модуль asyncio"
   ]
  },
  {
   "cell_type": "code",
   "execution_count": 1,
   "metadata": {
    "collapsed": true
   },
   "outputs": [],
   "source": [
    "import threading\n",
    "import time"
   ]
  },
  {
   "cell_type": "code",
   "execution_count": 2,
   "metadata": {},
   "outputs": [
    {
     "name": "stdout",
     "output_type": "stream",
     "text": [
      "- up to 1048832 : pn=1048583\n",
      "- up to 1048832 : pn=1048589\n",
      "- up to 1048832 : pn=1048601\n",
      "- up to 1048832 : pn=1048609\n",
      "- up to 1048832 : pn=1048613\n",
      "- up to 1048832 : pn=1048627\n",
      "- up to 1048832 : pn=1048633\n",
      "- up to 1048832 : pn=1048661\n",
      "- up to 1048832 : pn=1048681\n",
      "- up to 1048832 : pn=1048703\n",
      "- up to 1048832 : pn=1048709\n",
      "- up to 1048832 : pn=1048717\n",
      "- up to 1048832 : pn=1048721\n",
      "- up to 1048832 : pn=1048759\n",
      "- up to 1048832 : pn=1048783\n",
      "- up to 1048832 : pn=1048793\n",
      "- up to 1048832 : pn=1048799\n",
      "- up to 1048832 : pn=1048807\n",
      "- up to 1048832 : pn=1048829\n"
     ]
    }
   ],
   "source": [
    "def prime_numbers(lower, upper):\n",
    "    ''' (неэффективная) функция для вывода простых чисел в диапазоне '''\n",
    "    if lower < 2:\n",
    "        lower = 2\n",
    "    for num in range(lower, upper + 1):\n",
    "        for i in range(2, num):\n",
    "            if num % i == 0:\n",
    "                break\n",
    "        else:\n",
    "            print('- up to {} : pn={}'.format(upper, num))\n",
    "                \n",
    "\n",
    "t = threading.Thread(target=prime_numbers,\n",
    "                     args=(2**20, 2**20 + 256))\n",
    "t.start()"
   ]
  },
  {
   "cell_type": "code",
   "execution_count": 3,
   "metadata": {},
   "outputs": [
    {
     "name": "stdout",
     "output_type": "stream",
     "text": [
      "- up to 200 : pn=151\n",
      "- up to 200 : pn=157\n",
      "- up to 200 : pn=163\n",
      "- up to 200 : pn=167\n",
      "- up to 200 : pn=173\n",
      "- up to 200 : pn=179\n",
      "- up to 200 : pn=181\n",
      "- up to 200 : pn=191\n",
      "- up to 200 : pn=193\n",
      "- up to 200 : pn=197\n",
      "- up to 200 : pn=199\n"
     ]
    }
   ],
   "source": [
    "class PrimeNumberThread(threading.Thread):\n",
    "    ''' Класс генерации простых чисел с функцией потока '''\n",
    "    def __init__(self, lower, upper):\n",
    "        self._lower = lower\n",
    "        self._upper = upper\n",
    "        threading.Thread.__init__(self)\n",
    "\n",
    "    def run(self):\n",
    "        for num in range(self._lower, self._upper + 1):\n",
    "            for i in range(2, num):\n",
    "                if num % i == 0:\n",
    "                    break\n",
    "            else:\n",
    "                print('- up to {} : pn={}'.format(self._upper, num))\n",
    "\n",
    "\n",
    "t = PrimeNumberThread(150, 200)\n",
    "t.start()"
   ]
  },
  {
   "cell_type": "code",
   "execution_count": 4,
   "metadata": {},
   "outputs": [
    {
     "name": "stdout",
     "output_type": "stream",
     "text": [
      "- up to 1048832 : pn=1048583\n",
      "- up to 1048832 : pn=1048589\n",
      "- up to 2097408 : pn=2097169\n",
      "- up to 1048832 : pn=1048601\n",
      "- up to 1048832 : pn=1048609\n",
      "- up to 2097408 : pn=2097211\n",
      "- up to 1048832 : pn=1048613\n",
      "- up to 1048832 : pn=1048627\n",
      "- up to 2097408 : pn=2097223\n",
      "- up to 1048832 : pn=1048633\n",
      "- up to 1048832 : pn=1048661\n",
      "- up to 2097408 : pn=2097229\n",
      "- up to 1048832 : pn=1048681\n",
      "- up to 1048832 : pn=1048703\n",
      "- up to 2097408 : pn=2097257\n",
      "- up to 1048832 : pn=1048709\n",
      "- up to 1048832 : pn=1048717\n",
      "- up to 2097408 : pn=2097259\n",
      "- up to 1048832 : pn=1048721\n",
      "- up to 1048832 : pn=1048759\n",
      "- up to 2097408 : pn=2097287\n",
      "- up to 1048832 : pn=1048783\n",
      "- up to 2097408 : pn=2097289- up to 1048832 : pn=1048793\n",
      "\n",
      "- up to 1048832 : pn=1048799\n",
      "- up to 1048832 : pn=1048807- up to 2097408 : pn=2097311\n",
      "\n",
      "- up to 1048832 : pn=1048829\n",
      "- up to 2097408 : pn=2097317\n",
      "- up to 2097408 : pn=2097349\n",
      "- up to 2097408 : pn=2097373\n",
      "- up to 2097408 : pn=2097383\n",
      "- up to 2097408 : pn=2097397\n",
      "- up to 2097408 : pn=2097401\n"
     ]
    }
   ],
   "source": [
    "# пример одновременного выполнения 2 потоков:\n",
    "t1 = PrimeNumberThread(2**20, 2**20 + 256)\n",
    "t2 = PrimeNumberThread(2**21, 2**21 + 256)\n",
    "t1.start()\n",
    "t2.start()"
   ]
  },
  {
   "cell_type": "markdown",
   "metadata": {},
   "source": [
    "### Пример окна с индикацией прогресса (wxPython)\n",
    "\n",
    "![wxPythonDemo](images/gauge_demo.png)"
   ]
  },
  {
   "cell_type": "code",
   "execution_count": null,
   "metadata": {
    "collapsed": true
   },
   "outputs": [],
   "source": [
    "import wx\n",
    "\n",
    "\n",
    "class DownloadThread(threading.Thread):\n",
    "    ''' Класс простого потока индикации прогресса.\n",
    "         \n",
    "        _percentage - текущий процент выполнения операции\n",
    "        _update - функция, которая вызывается \n",
    "        _callback - функция, которая будет вызываться\n",
    "    '''\n",
    "    def __init__(self, thread_name, thread_func, callback):\n",
    "        threading.Thread.__init__(self)\n",
    "        self.daemon = True\n",
    "        self.name = thread_name\n",
    "        self._percentage = 0\n",
    "        self._update = thread_func\n",
    "        self._callback = callback\n",
    "    \n",
    "    def run(self):\n",
    "        while self._percentage < 100:\n",
    "            time.sleep(0.03)\n",
    "            self._percentage += 1\n",
    "            self._update(self._percentage)\n",
    "        \n",
    "        self._callback(self.name)\n",
    "\n",
    "\n",
    "class MainFrame(wx.Frame):\n",
    "    def __init__(self):\n",
    "        wx.Frame.__init__(self, None, wx.ID_ANY, 'Threads!', size=(400, 300))\n",
    "        \n",
    "        panel = wx.Panel(self, -1)\n",
    "        self.gauge1 = wx.Gauge(panel, -1, pos=(20,20), size=(360,40))\n",
    "        self.gauge2 = wx.Gauge(panel, -1, pos=(20,80), size=(360,40))\n",
    "\n",
    "        button_start1 = wx.Button(panel, -1, 'start thread #1', pos=(20,140),\n",
    "                                 size = (170, 50) )\n",
    "        button_start2 = wx.Button(panel, -1, 'start thread #2', pos=(210,140),\n",
    "                                 size = (170, 50) )\n",
    "        self.Bind(wx.EVT_BUTTON, self.on_start_thread1, button_start1)\n",
    "        self.Bind(wx.EVT_BUTTON, self.on_start_thread2, button_start2)\n",
    "\n",
    "        self.info_text = wx.StaticText(panel, -1, pos=(20, 230), size=(360, 20))\n",
    "        self.info_text.SetLabel('Idle...')\n",
    "        \n",
    "    def on_start_thread1(self,event):\n",
    "        self.dthread1 = DownloadThread('1', self.update_gauge1, self.download_finished)\n",
    "        self.dthread1.start()\n",
    "        \n",
    "    def on_start_thread2(self,event):\n",
    "        self.dthread2 = DownloadThread('2', self.update_gauge2, self.download_finished)\n",
    "        self.dthread2.start()\n",
    "        \n",
    "    def update_gauge1(self, percentage):\n",
    "        self.gauge1.SetValue(percentage)        \n",
    "        \n",
    "    def update_gauge2(self, percentage):\n",
    "        self.gauge2.SetValue(percentage)\n",
    "        \n",
    "    def download_finished(self, thread_no):\n",
    "        self.info_text.SetLabel('Thread {} has finished'.format(thread_no))\n",
    "\n",
    "\n",
    "if __name__ == '__main__':\n",
    "    app = wx.App()\n",
    "    frame = MainFrame()\n",
    "    frame.Show()\n",
    "    app.MainLoop()"
   ]
  },
  {
   "cell_type": "markdown",
   "metadata": {},
   "source": [
    "### Механизмы синхронизации потоков\n",
    "\n",
    "- мютексы (mutexes, lock)\n",
    "- семафоры (semaphores)\n",
    "- события (events)\n",
    "- conditions"
   ]
  },
  {
   "cell_type": "markdown",
   "metadata": {},
   "source": [
    "### События (events)"
   ]
  },
  {
   "cell_type": "code",
   "execution_count": 6,
   "metadata": {},
   "outputs": [
    {
     "name": "stdout",
     "output_type": "stream",
     "text": [
      "View 1 has been updated: First model\n",
      "View 2 has been updated: First model\n",
      "View 3 has been updated: First model\n",
      "View 1 has been updated: Second model\n",
      "View 2 has been updated: Second model\n",
      "View 3 has been updated: Second model\n",
      "View 1 has been updated: Third model\n",
      "View 2 has been updated: Third model\n",
      "View 3 has been updated: Third model\n"
     ]
    }
   ],
   "source": [
    "from random import randint\n",
    "\n",
    "model = ''\n",
    "\n",
    "def load_model():\n",
    "    global model\n",
    "    models = ['First model', 'Second model', 'Third model', None]\n",
    "    for m in models:\n",
    "        views_updated.wait()\n",
    "        views_updated.clear()\n",
    "        model = m\n",
    "        time.sleep(randint(1, 3))\n",
    "        model_loaded.set()\n",
    "    \n",
    "def update_views():\n",
    "    while True:\n",
    "        model_loaded.wait()\n",
    "        model_loaded.clear()\n",
    "        if model is None:\n",
    "            break\n",
    "        for i in range(3):\n",
    "            print('View {} has been updated: {}'.format(i+1, model))\n",
    "        views_updated.set()\n",
    "\n",
    "# инициализируем события\n",
    "model_loaded = threading.Event()\n",
    "views_updated = threading.Event()\n",
    "\n",
    "t1 = threading.Thread(target=load_model)\n",
    "t2 = threading.Thread(target=update_views)\n",
    "t1.start()\n",
    "t2.start()\n",
    "\n",
    "# устанавливаем \"флажок\" первого события\n",
    "views_updated.set()\n",
    "\n",
    "# присоединяем потоки к основному потоку\n",
    "# (т.е. не двигаемся дальше, пока не завершатся потоки)\n",
    "t1.join()\n",
    "t2.join()"
   ]
  },
  {
   "cell_type": "markdown",
   "metadata": {},
   "source": [
    "### Механизмы блокировки"
   ]
  },
  {
   "cell_type": "code",
   "execution_count": 7,
   "metadata": {},
   "outputs": [
    {
     "name": "stdout",
     "output_type": "stream",
     "text": [
      "Printing numbers from 1 to 10\n",
      "1\n",
      "2\n",
      "3\n",
      "4\n",
      "5\n",
      "6\n",
      "7\n",
      "8\n",
      "9\n",
      "10\n",
      "Printing numbers from 1 to 5\n",
      "1\n",
      "2\n",
      "3\n",
      "4\n",
      "5\n"
     ]
    }
   ],
   "source": [
    "# Мютекс (lock)\n",
    "\n",
    "lock = threading.Lock()\n",
    "\n",
    "def count_numbers(n, delay):\n",
    "    with lock:\n",
    "        print('Printing numbers from 1 to', n)\n",
    "        for i in range(1, n + 1):\n",
    "            print(i)\n",
    "            time.sleep(delay)\n",
    "\n",
    "t1 = threading.Thread(target=count_numbers, args=(10, 1))\n",
    "t2 = threading.Thread(target=count_numbers, args=(5, 2))\n",
    "\n",
    "t1.start()\n",
    "t2.start()\n",
    "\n",
    "t1.join() \n",
    "t2.join()"
   ]
  },
  {
   "cell_type": "markdown",
   "metadata": {},
   "source": [
    "### Producer/Consumer"
   ]
  },
  {
   "cell_type": "code",
   "execution_count": 8,
   "metadata": {},
   "outputs": [
    {
     "name": "stdout",
     "output_type": "stream",
     "text": [
      "Поток Thread-25 обрабатывает задачу 9\n",
      "Поток Thread-24 обрабатывает задачу 8\n",
      "Поток Thread-22 обрабатывает задачу 6\n",
      "Поток Thread-23 обрабатывает задачу 7\n",
      "Поток Thread-21 обрабатывает задачу 5\n",
      "Поток Thread-17 обрабатывает задачу 4\n",
      "Поток Thread-20 обрабатывает задачу 3\n",
      "Поток Thread-19 обрабатывает задачу 2\n",
      "Поток Thread-18 обрабатывает задачу 1\n",
      "Поток Thread-16 обрабатывает задачу 0\n",
      "Поток Thread-18 обрабатывает задачу 18\n",
      "Поток Thread-16 обрабатывает задачу 19\n",
      "Поток Thread-19 обрабатывает задачу 17\n",
      "Поток Thread-23 обрабатывает задачу 13\n",
      "Поток Thread-22 обрабатывает задачу 12\n",
      "Поток Thread-24 обрабатывает задачу 11\n",
      "Поток Thread-25 обрабатывает задачу 10\n",
      "Поток Thread-20 обрабатывает задачу 16\n",
      "Поток Thread-17 обрабатывает задачу 15\n",
      "Поток Thread-21 обрабатывает задачу 14\n"
     ]
    }
   ],
   "source": [
    "# Работа с потоками через очередь Queue\n",
    "# Класс Queue из модуля queue - потокобезопасная очередь\n",
    "# (с помощью которой можно подавать данные с одного потока на другой).\n",
    "\n",
    "from queue import Queue\n",
    "\n",
    "\n",
    "# очередь\n",
    "q = Queue()\n",
    "# мютекс, блокирующий вывод на консоль в потоке\n",
    "print_lock = threading.Lock()\n",
    "\n",
    "\n",
    "def consumer():\n",
    "    while True:\n",
    "        # достаем из очереди задачу\n",
    "        worker = q.get()\n",
    "        # делаем что надо\n",
    "        time.sleep(1)\n",
    "        with print_lock:\n",
    "            print('Поток {} обрабатывает задачу {}'.format(\n",
    "                    threading.current_thread().name, worker))\n",
    "        # отмечаем, что задача отработана\n",
    "        q.task_done()\n",
    "\n",
    "def producer(n):\n",
    "    # каждый продюсер кладет в очередь 5 задач\n",
    "    for task in range(5):\n",
    "        q.put(n*5 + task)\n",
    "        \n",
    "# создаем 10 консьюмеров\n",
    "for _ in range(10):\n",
    "    t = threading.Thread(target=consumer, daemon=True)\n",
    "    t.start()\n",
    "\n",
    "# создаем 4 поставщиков\n",
    "for i in range(4):\n",
    "    t = threading.Thread(target=producer, daemon=True, args=(i,))\n",
    "    t.start()\n",
    "    \n",
    "# ждем завершения потока\n",
    "q.join()"
   ]
  },
  {
   "cell_type": "markdown",
   "metadata": {},
   "source": [
    "### GIL (Global Interpreter Lock)\n",
    "\n",
    "Если свести к одному предложению, то: в Python CPU-bound задачи, запрограммированные как многопоточные, по факту не многопоточны. Причиной этому - глобальная блокировка интерпретатора на уровне реализации CPython (семафоры ставятся практически на все участки сишного кода). Так уж сделал Гвидо, и у этого подхода есть серьезные преимущества (однопоточные скрипты работают более эффективно + дополнительная защита потоконебезопасных участков кода на С).\n",
    "\n",
    "Подробно о внутренностях GIL пишет Девид Бизли:\n",
    "- http://www.dabeaz.com/python/GIL.pdf (старый GIL, < Python 3.2)\n",
    "- http://www.dabeaz.com/python/NewGIL.pdf (новый GIL)\n",
    "\n",
    "Перевод на хабре:\n",
    "- https://habrahabr.ru/post/84629/\n",
    "\n",
    "Из-за особенностей GIL + механизмов переключения потоков в любой ОС, код, \"разнесенный\" по потокам, будет работать даже медленнее, чем однопоточный.\n",
    "\n",
    "Проверим это:\n"
   ]
  },
  {
   "cell_type": "code",
   "execution_count": 9,
   "metadata": {},
   "outputs": [
    {
     "name": "stdout",
     "output_type": "stream",
     "text": [
      "Single-threaded version: 1.9972162246704102 sec\n",
      "Result: 199999990000000\n"
     ]
    }
   ],
   "source": [
    "# Посчитаем сумму всех чисел из диапазона [1, 20000000)\n",
    "# однопоточная версия\n",
    "lower = 1\n",
    "upper = 20000000\n",
    " \n",
    "tm1 = time.time()\n",
    " \n",
    "total = 0\n",
    "for i in range(lower, upper):\n",
    "    total += i\n",
    "\n",
    "tm2 = time.time()\n",
    " \n",
    "print('Single-threaded version: {} sec'.format(tm2 - tm1))\n",
    "print('Result: {}'.format(total))"
   ]
  },
  {
   "cell_type": "code",
   "execution_count": 10,
   "metadata": {},
   "outputs": [
    {
     "name": "stdout",
     "output_type": "stream",
     "text": [
      "Multi-threaded version: 1.2708654403686523 sec\n",
      "Result: 199999990000000\n"
     ]
    }
   ],
   "source": [
    "# многопоточная версия\n",
    "\n",
    "middle = 10000000\n",
    " \n",
    "def count_sum(start, end, res):\n",
    "    total = 0\n",
    "    for i in range(start, end):\n",
    "        total += i\n",
    "    res[0] = total \n",
    "\n",
    "\n",
    "sum1 = [0] \n",
    "sum2 = [0]\n",
    " \n",
    "tm1 = time.time()\n",
    " \n",
    "t1 = threading.Thread(target=count_sum, args=(lower, middle, sum1)) \n",
    "t2 = threading.Thread(target=count_sum, args=(middle, upper, sum2)) \n",
    "t1.start()\n",
    "t2.start()\n",
    "t1.join()\n",
    "t2.join()\n",
    " \n",
    "total = sum1[0] + sum2[0]\n",
    " \n",
    "tm2 = time.time()\n",
    " \n",
    "print('Multi-threaded version: {} sec'.format(tm2 - tm1))\n",
    "print('Result: {}'.format(total))"
   ]
  },
  {
   "cell_type": "markdown",
   "metadata": {},
   "source": [
    "Согласно GIL, многопоточная версия не должна быть быстрее однопоточной.\n",
    "А у нас результат оказался противоположным.\n",
    "\n",
    "Причина - хитрая. В примере выше мы вызываем глобальную функцию, оперирующую глобальными переменными. Глобальные переменные хранятся в хеш-таблице.\n",
    "А потоки выполняются посредством своих функций со стеком переменных, и там (как и во всяких функциях) переменные хранятся в массивах. Скорость адресации в массиве выше скорости доступа к элементу хеш-таблицы. За счет этого получается выигрыш второй версии.\n",
    "\n",
    "Ну а если напишем однопоточную версию с помощью функции, то получим ожидаемый результат:"
   ]
  },
  {
   "cell_type": "code",
   "execution_count": 11,
   "metadata": {},
   "outputs": [
    {
     "name": "stdout",
     "output_type": "stream",
     "text": [
      "Single-threaded version: 1.2537884712219238 sec\n",
      "Result: 199999990000000\n"
     ]
    }
   ],
   "source": [
    "lower = 1\n",
    "upper = 20000000\n",
    " \n",
    "tm1 = time.time()\n",
    " \n",
    "total = [0]\n",
    "count_sum(lower, upper, total)\n",
    " \n",
    "tm2 = time.time()\n",
    " \n",
    "print('Single-threaded version: {} sec'.format(tm2 - tm1))\n",
    "print('Result: {}'.format(total[0]))"
   ]
  },
  {
   "cell_type": "markdown",
   "metadata": {},
   "source": [
    "NB. Время замерять часто удобнее с помощью timeit:"
   ]
  },
  {
   "cell_type": "code",
   "execution_count": 12,
   "metadata": {
    "scrolled": true
   },
   "outputs": [
    {
     "name": "stdout",
     "output_type": "stream",
     "text": [
      "1 loop, best of 3: 1.13 s per loop\n"
     ]
    }
   ],
   "source": [
    "%timeit count_sum(lower, upper, total)"
   ]
  },
  {
   "cell_type": "markdown",
   "metadata": {},
   "source": [
    "### Асинхронность в Python\n",
    "\n",
    "Асинхронность - то, без чего не обходится ни одна нормальная современная технология программирования. Многое из того, что в \"лихие 90-ые\" за неимением альтернатив делалось в потоках, сейчас лучше и эффективнее делать на асинхронных механизмах, а именно: всякие I/O задачи, где основной поток, выполняясь синхронно, тратит свое время на банальное ожидание ресурса, в то время как он мог бы преспокойно заниматься и другими делами. Примеры: загрузка файлов на локальный компьютер по сетевым протоколам; выполнение мудрёного для СУБД SQL-запроса и ожидание ответа; считывание данных с СОМ-порта с определенной периодичностью, и т.д.\n",
    "\n",
    "#### Основные понятия асинхронного программирования:\n",
    "\n",
    "    event loops\n",
    "    awaitables\n",
    "    coroutines\n",
    "    generators\n",
    "    futures\n",
    "    concurrent futures\n",
    "    tasks\n",
    "    executors\n",
    "    transports\n",
    "    protocols\n",
    "\n",
    "Все это есть в питончике. Читаем также здесь: http://lucumr.pocoo.org/2016/10/30/i-dont-understand-asyncio/\n",
    "\n",
    "Ниже рассмотрим примеры из официальной документации Python"
   ]
  },
  {
   "cell_type": "code",
   "execution_count": 13,
   "metadata": {
    "collapsed": true
   },
   "outputs": [],
   "source": [
    "import asyncio\n",
    "import datetime"
   ]
  },
  {
   "cell_type": "code",
   "execution_count": 14,
   "metadata": {},
   "outputs": [
    {
     "name": "stdout",
     "output_type": "stream",
     "text": [
      "2017-05-03 20:26:47.935598\n",
      "2017-05-03 20:26:48.952208\n",
      "2017-05-03 20:26:49.959222\n",
      "2017-05-03 20:26:50.970285\n",
      "2017-05-03 20:26:51.970992\n"
     ]
    }
   ],
   "source": [
    "# Демонстрация event_loop\n",
    "# call_soon, call_later\n",
    "\n",
    "def display_date(end_time, loop):\n",
    "    ''' показ времени каждую секунду '''\n",
    "    print(datetime.datetime.now())\n",
    "    if (loop.time() + 1.0) < end_time:\n",
    "        loop.call_later(1, display_date, end_time, loop)\n",
    "    else:\n",
    "        loop.stop()\n",
    "\n",
    "# Получаем себе цикл обработки сообщений (из текущего потока)\n",
    "loop = asyncio.get_event_loop()\n",
    "\n",
    "# вызываем функцию display_date()\n",
    "end_time = loop.time() + 5.0\n",
    "loop.call_soon(display_date, end_time, loop)\n",
    "\n",
    "# говорим циклу выполняться вечно (но он прервется вызовом loop.stop() из функции)\n",
    "loop.run_forever()\n",
    "# Закрываем цикл обработки сообщений (в jupyter'е я это делать, конечно, не буду)\n",
    "#loop.close()"
   ]
  },
  {
   "cell_type": "code",
   "execution_count": 15,
   "metadata": {},
   "outputs": [
    {
     "name": "stdout",
     "output_type": "stream",
     "text": [
      "2017-05-03 20:26:55.055535\n",
      "2017-05-03 20:26:56.068854\n",
      "2017-05-03 20:26:57.070970\n",
      "2017-05-03 20:26:58.073680\n",
      "2017-05-03 20:26:59.082370\n"
     ]
    }
   ],
   "source": [
    "@asyncio.coroutine\n",
    "def display_date(loop):\n",
    "    end_time = loop.time() + 5.0\n",
    "    while True:\n",
    "        print(datetime.datetime.now())\n",
    "        if (loop.time() + 1.0) >= end_time:\n",
    "            break\n",
    "        yield from asyncio.sleep(1)\n",
    "\n",
    "loop = asyncio.get_event_loop()\n",
    "loop.run_until_complete(display_date(loop))\n",
    "# Закрываем цикл обработки сообщений (в jupyter'е я это делать, конечно, не буду)\n",
    "#loop.close()"
   ]
  },
  {
   "cell_type": "markdown",
   "metadata": {},
   "source": [
    "Начиная с Python 3.5, такие конструкции \"доведены до ума\" и записываются более коротко:\n",
    "\n",
    "```asyncio.coroutine``` заменяется на ```async def foo()```\n",
    "\n",
    "```yield from``` заменяется на ```await```"
   ]
  },
  {
   "cell_type": "code",
   "execution_count": 16,
   "metadata": {},
   "outputs": [
    {
     "name": "stdout",
     "output_type": "stream",
     "text": [
      "2017-05-03 20:27:02.146636\n",
      "2017-05-03 20:27:03.153434\n",
      "2017-05-03 20:27:04.167310\n",
      "2017-05-03 20:27:05.171045\n",
      "2017-05-03 20:27:06.184588\n"
     ]
    }
   ],
   "source": [
    "async def display_date(loop):\n",
    "    end_time = loop.time() + 5.0\n",
    "    while True:\n",
    "        print(datetime.datetime.now())\n",
    "        if (loop.time() + 1.0) >= end_time:\n",
    "            break\n",
    "        await asyncio.sleep(1)\n",
    "\n",
    "loop = asyncio.get_event_loop()\n",
    "loop.run_until_complete(display_date(loop))\n",
    "# Закрываем цикл обработки сообщений (в jupyter'е я это делать, конечно, не буду)\n",
    "#loop.close()"
   ]
  },
  {
   "cell_type": "code",
   "execution_count": 17,
   "metadata": {},
   "outputs": [
    {
     "name": "stdout",
     "output_type": "stream",
     "text": [
      "Compute 1 + 2 ...\n",
      "1 + 2 = 3\n"
     ]
    }
   ],
   "source": [
    "\"\"\"\n",
    "Две корутины в цепочке.\n",
    "\n",
    "Цепочка: compute() -> print_sum().\n",
    "Корутина print_sum() ожидает окончания compute() перед тем, как вернуть результат.\n",
    "\"\"\"\n",
    "\n",
    "async def compute(x, y):\n",
    "    print(\"Compute %s + %s ...\" % (x, y))\n",
    "    await asyncio.sleep(1.0)\n",
    "    return x + y\n",
    "\n",
    "async def print_sum(x, y):\n",
    "    result = await compute(x, y)\n",
    "    print(\"%s + %s = %s\" % (x, y, result))\n",
    "\n",
    "loop = asyncio.get_event_loop()\n",
    "loop.run_until_complete(print_sum(1, 2))\n",
    "# цикл обработки сообщений (в jupyter'е я это делать, конечно, не буду)\n",
    "# loop.close()"
   ]
  },
  {
   "cell_type": "markdown",
   "metadata": {},
   "source": [
    "<img src=\"https://docs.python.org/3/_images/tulip_coro.png\"/>"
   ]
  },
  {
   "cell_type": "code",
   "execution_count": 18,
   "metadata": {},
   "outputs": [
    {
     "name": "stdout",
     "output_type": "stream",
     "text": [
      "Task C: Compute factorial(2)...\n",
      "Task B: Compute factorial(2)...\n",
      "Task A: Compute factorial(2)...\n",
      "Task C: Compute factorial(3)...\n",
      "Task B: Compute factorial(3)...\n",
      "Task A: factorial(2) = 2\n",
      "Task C: Compute factorial(4)...\n",
      "Task B: factorial(3) = 6\n",
      "Task C: factorial(4) = 24\n"
     ]
    },
    {
     "data": {
      "text/plain": [
       "[None, None, None]"
      ]
     },
     "execution_count": 18,
     "metadata": {},
     "output_type": "execute_result"
    }
   ],
   "source": [
    "# Параллельное выполнение трех тасков-задач (tasks),\n",
    "# каждая из которых представлена корутиной вычисления факториала.\n",
    "\n",
    "async def factorial(name, number):\n",
    "    f = 1\n",
    "    for i in range(2, number+1):\n",
    "        print(\"Task %s: Compute factorial(%s)...\" % (name, i))\n",
    "        await asyncio.sleep(1)\n",
    "        f *= i\n",
    "    print(\"Task %s: factorial(%s) = %s\" % (name, number, f))\n",
    "\n",
    "    \n",
    "loop = asyncio.get_event_loop()\n",
    "loop.run_until_complete(asyncio.gather(\n",
    "    factorial(\"A\", 2),\n",
    "    factorial(\"B\", 3),\n",
    "    factorial(\"C\", 4),\n",
    "))\n",
    "# loop.close()"
   ]
  },
  {
   "cell_type": "code",
   "execution_count": 19,
   "metadata": {},
   "outputs": [
    {
     "name": "stdout",
     "output_type": "stream",
     "text": [
      "Reorganized data in file 3.csv\n",
      "Reorganized data in file 12.csv\n"
     ]
    },
    {
     "data": {
      "text/plain": [
       "[None, None]"
      ]
     },
     "execution_count": 19,
     "metadata": {},
     "output_type": "execute_result"
    }
   ],
   "source": [
    "# Пример создания тасков через create_task()\n",
    "\n",
    "async def reorganize_data(filename):\n",
    "    # просто пусть длительность паузы зависит от имени файла\n",
    "    await asyncio.sleep(filename.index('.'))\n",
    "    print('Reorganized data in file {}'.format(filename))\n",
    "\n",
    "\n",
    "loop = asyncio.get_event_loop()\n",
    "\n",
    "reorganize_task1 = loop.create_task(reorganize_data('12.csv'))\n",
    "reorganize_task2 = loop.create_task(reorganize_data('3.csv'))\n",
    "\n",
    "loop.run_until_complete(\n",
    "    asyncio.gather(reorganize_task1, reorganize_task2))\n",
    "# loop.close()"
   ]
  },
  {
   "cell_type": "code",
   "execution_count": 20,
   "metadata": {},
   "outputs": [
    {
     "name": "stdout",
     "output_type": "stream",
     "text": [
      "Ну, например, читаааааем из большого файла... Ожидайте\n",
      "\n",
      "Прочитали:\n",
      "Текст файла... (и далее миллион символов)\n"
     ]
    }
   ],
   "source": [
    "# Пример работы с future; task - это подкласс future\n",
    "\n",
    "async def read_file_contents(future):\n",
    "    print('Ну, например, читаааааем из большого файла... Ожидайте')\n",
    "    print()\n",
    "    # и здесь код чтения из файла, типа await read_file_async()\n",
    "    await asyncio.sleep(5)\n",
    "    future.set_result('Прочитали:\\nТекст файла... (и далее миллион символов)')\n",
    "\n",
    "    \n",
    "future = asyncio.Future()\n",
    "    \n",
    "loop = asyncio.get_event_loop()\n",
    "asyncio.ensure_future(read_file_contents(future))\n",
    "loop.run_until_complete(future)\n",
    "\n",
    "print(future.result())\n",
    "#loop.close()"
   ]
  },
  {
   "cell_type": "markdown",
   "metadata": {},
   "source": [
    "<hr/>\n",
    "Ниже рассмотрим, как можно блокирующую функцию (не asyncio-корутину) начать выполнять асинхронно:"
   ]
  },
  {
   "cell_type": "code",
   "execution_count": 20,
   "metadata": {},
   "outputs": [
    {
     "name": "stdout",
     "output_type": "stream",
     "text": [
      "first site:\n",
      "<!DOCTYPE html PUBLIC \"-//W3C//DTD XHTML 1.0 Transitional//EN\"\n",
      "  \"http://www.w3.org/TR/xhtml1/DTD/xhtml1-transitional.dtd\">\n",
      "\n",
      "\n",
      "<html xmlns=\"http://www.w3.org/1999/xhtml\">\n",
      "  <head>\n",
      "    <meta http-equiv=\n",
      "\n",
      "second site:\n",
      "<!doctype html><html itemscope=\"\" itemtype=\"http://schema.org/WebPage\" lang=\"uk\"><head><meta content=\"text/html; charset=UTF-8\" http-equiv=\"Content-Type\"><meta content=\"/images/branding/googleg/1x/goo\n"
     ]
    }
   ],
   "source": [
    "import requests\n",
    "\n",
    "async def download_urls():\n",
    "    loop = asyncio.get_event_loop()\n",
    "    future1 = loop.run_in_executor(None,\n",
    "                                   requests.get,\n",
    "                                   'https://docs.python.org/3/library/asyncio-task.html')\n",
    "    future2 = loop.run_in_executor(None,\n",
    "                                   requests.get,\n",
    "                                   'http://www.google.com')\n",
    "    response1 = await future1\n",
    "    response2 = await future2\n",
    "    print('first site:')\n",
    "    print(response1.text[:200])\n",
    "    print()\n",
    "    print('second site:')\n",
    "    print(response2.text[:200])\n",
    "\n",
    "loop = asyncio.get_event_loop()\n",
    "loop.run_until_complete(download_urls())\n",
    "# loop.close()"
   ]
  },
  {
   "cell_type": "code",
   "execution_count": 21,
   "metadata": {},
   "outputs": [
    {
     "name": "stdout",
     "output_type": "stream",
     "text": [
      "first site:\n",
      "<!DOCTYPE html PUBLIC \"-//W3C//DTD XHTML 1.0 Transitional//EN\"\n",
      "  \"http://www.w3.org/TR/xhtml1/DTD/xhtml1-transitional.dtd\">\n",
      "\n",
      "\n",
      "<html xmlns=\"http://www.w3.org/1999/xhtml\">\n",
      "  <head>\n",
      "    <meta http-equiv=\n",
      "\n",
      "second site:\n",
      "<!doctype html><html itemscope=\"\" itemtype=\"http://schema.org/WebPage\" lang=\"uk\"><head><meta content=\"text/html; charset=UTF-8\" http-equiv=\"Content-Type\"><meta content=\"/images/branding/googleg/1x/goo\n"
     ]
    }
   ],
   "source": [
    "from concurrent.futures import ThreadPoolExecutor\n",
    "\n",
    "# Пул потоков (executor) можем сами создать/настроить\n",
    "executor = ThreadPoolExecutor(max_workers=3)\n",
    "\n",
    "async def download_urls(executor):\n",
    "    loop = asyncio.get_event_loop()\n",
    "    future1 = loop.run_in_executor(executor,\n",
    "                                   requests.get,\n",
    "                                   'https://docs.python.org/3/library/asyncio-task.html')\n",
    "    future2 = loop.run_in_executor(executor,\n",
    "                                   requests.get,\n",
    "                                   'http://www.google.com')\n",
    "    response1 = await future1\n",
    "    response2 = await future2\n",
    "    print('first site:')\n",
    "    print(response1.text[:200])\n",
    "    print()\n",
    "    print('second site:')\n",
    "    print(response2.text[:200])\n",
    "\n",
    "    \n",
    "loop = asyncio.get_event_loop()\n",
    "loop.run_until_complete(download_urls(executor))\n",
    "# loop.close()"
   ]
  },
  {
   "cell_type": "code",
   "execution_count": 22,
   "metadata": {},
   "outputs": [
    {
     "name": "stdout",
     "output_type": "stream",
     "text": [
      "Wow! Exception\n",
      "\n",
      "Is loop running? False\n"
     ]
    }
   ],
   "source": [
    "\n",
    "# Исключения надо ловить обязательно самостоятельно,\n",
    "# т.к. уведомлений о них никаких не будет\n",
    "# (разве что если явно спросить у future)\n",
    "\n",
    "async def suspicious():\n",
    "    try:\n",
    "        await some_buggy_operation()\n",
    "    except ValueError as e:\n",
    "        print(e)\n",
    "\n",
    "async def some_buggy_operation():\n",
    "    raise ValueError('Wow! Exception\\n')\n",
    "\n",
    "    \n",
    "loop = asyncio.get_event_loop()\n",
    "loop.run_until_complete(suspicious())\n",
    "# loop.close()\n",
    "\n",
    "print('Is loop running?', loop.is_running())"
   ]
  },
  {
   "cell_type": "code",
   "execution_count": 23,
   "metadata": {},
   "outputs": [
    {
     "name": "stdout",
     "output_type": "stream",
     "text": [
      "Получены новые данные на 0 секунде\n",
      "Получены новые данные на 0 секунде\n",
      "Получены новые данные на 1.5 секунде\n",
      "Получены новые данные на 2 секунде\n",
      "Получены новые данные на 3.0 секунде\n",
      "Получены новые данные на 4 секунде\n",
      "Получены новые данные на 4.5 секунде\n",
      "Cancelling <Task pending coro=<poll() running at <ipython-input-23-46203e8d92bc>:10> wait_for=<Future cancelled>>: True\n",
      "Cancelling <Task pending coro=<poll() running at <ipython-input-23-46203e8d92bc>:10> wait_for=<Future cancelled>>: True\n",
      "Cancelled <Task cancelled coro=<poll() done, defined at <ipython-input-23-46203e8d92bc>:4>>: True\n",
      "Cancelled <Task cancelled coro=<poll() done, defined at <ipython-input-23-46203e8d92bc>:4>>: True\n"
     ]
    }
   ],
   "source": [
    "\n",
    "# корутины можно прерывать (cancellation):\n",
    "\n",
    "async def poll(incr=1):\n",
    "    \"\"\" бесконечная корутина \"\"\"\n",
    "    i = 0\n",
    "    while True:\n",
    "        print(\"Получены новые данные на {} секунде\".format(i))\n",
    "        i += incr\n",
    "        await asyncio.sleep(incr)\n",
    "    \n",
    "\n",
    "async def stop(duration):\n",
    "    \"\"\" Корутина, ожидающая сигнал для остановки цикла обрабокти сообщений \"\"\"\n",
    "    await asyncio.sleep(duration)\n",
    "    # Также можно поднять здесь Exception и прописать\n",
    "    # `return_when=asyncio.FIRST_EXCEPTION` в `asyncio.wait`.\n",
    "\n",
    "    \n",
    "loop = asyncio.get_event_loop()\n",
    "tasks = [asyncio.ensure_future(poll(2)),\n",
    "         asyncio.ensure_future(poll(1.5)),\n",
    "         asyncio.ensure_future(stop(5))]\n",
    "finished, pending = loop.run_until_complete(\n",
    "    asyncio.wait(tasks, return_when=asyncio.FIRST_COMPLETED))\n",
    "\n",
    "# отменяем остающиеся таски\n",
    "for task in pending:\n",
    "    print(\"Cancelling %s: %s\" % (task, task.cancel()))\n",
    "try:\n",
    "    loop.run_until_complete(asyncio.gather(*pending))\n",
    "except asyncio.CancelledError:\n",
    "    for task in pending:\n",
    "        print(\"Cancelled %s: %s\" % (task, task.cancelled()))\n"
   ]
  },
  {
   "cell_type": "code",
   "execution_count": 24,
   "metadata": {},
   "outputs": [
    {
     "name": "stdout",
     "output_type": "stream",
     "text": [
      "Принял приемщик №0 : значение 0\n",
      "Принял приемщик №0 : значение 1\n",
      "Принял приемщик №0 : значение 2\n",
      "Принял приемщик №0 : значение 3\n",
      "Принял приемщик №0 : значение 4\n",
      "Принял приемщик №0 : значение 5\n",
      "Принял приемщик №0 : значение 6\n",
      "Принял приемщик №0 : значение 6\n",
      "Принял приемщик №1 : значение 5\n",
      "Принял приемщик №2 : значение 0\n",
      "Принял приемщик №3 : значение 3\n",
      "Принял приемщик №3 : значение 6\n",
      "Принял приемщик №0 : значение 5\n",
      "Принял приемщик №1 : значение 1\n",
      "Принял приемщик №2 : значение 4\n",
      "Принял приемщик №3 : значение 1\n",
      "Принял приемщик №4 : значение 1\n",
      "Принял приемщик №0 : значение 1\n",
      "Принял приемщик №1 : значение 3\n",
      "Принял приемщик №2 : значение 4\n",
      "Принял приемщик №2 : значение 3\n",
      "Принял приемщик №4 : значение 4\n",
      "Принял приемщик №0 : значение 3\n"
     ]
    }
   ],
   "source": [
    "\n",
    "# пример асинхронного варианта паттерна Producer/Consumer\n",
    "\n",
    "import random\n",
    "\n",
    "q = asyncio.Queue()\n",
    "\n",
    "\n",
    "async def producer(num):\n",
    "    for _ in range(random.randint(1, 5)):\n",
    "        await q.put(num)\n",
    "        await asyncio.sleep(random.random())\n",
    "\n",
    "async def consumer(num):\n",
    "    while True:\n",
    "        value = await q.get()\n",
    "        print('Принял приемщик №{} : значение {}'.format(num, value))\n",
    "\n",
    "\n",
    "loop = asyncio.get_event_loop()\n",
    "\n",
    "producers = [loop.create_task(producer(i)) for i in range(7)]\n",
    "consumers = [loop.create_task(consumer(i)) for i in range(5)]\n",
    "\n",
    "loop.run_until_complete(asyncio.wait(producers))\n",
    "\n",
    "for c in consumers:\n",
    "    c.set_result(True)"
   ]
  }
 ],
 "metadata": {
  "anaconda-cloud": {},
  "kernelspec": {
   "display_name": "Python 3",
   "language": "python",
   "name": "python3"
  },
  "language_info": {
   "codemirror_mode": {
    "name": "ipython",
    "version": 3
   },
   "file_extension": ".py",
   "mimetype": "text/x-python",
   "name": "python",
   "nbconvert_exporter": "python",
   "pygments_lexer": "ipython3",
   "version": "3.8.3"
  }
 },
 "nbformat": 4,
 "nbformat_minor": 1
}
