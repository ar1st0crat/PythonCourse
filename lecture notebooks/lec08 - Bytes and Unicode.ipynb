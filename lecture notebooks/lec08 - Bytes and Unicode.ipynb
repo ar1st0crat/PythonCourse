{
 "cells": [
  {
   "cell_type": "markdown",
   "metadata": {},
   "source": [
    "### Лекция 8 - Работа с байтами\n",
    "\n",
    "- модуль struct\n",
    "- модуль io и класс BytesIO\n",
    "- строки и байты"
   ]
  },
  {
   "cell_type": "code",
   "execution_count": 1,
   "metadata": {},
   "outputs": [
    {
     "data": {
      "text/plain": [
       "['Struct',\n",
       " '__all__',\n",
       " '__builtins__',\n",
       " '__cached__',\n",
       " '__doc__',\n",
       " '__file__',\n",
       " '__loader__',\n",
       " '__name__',\n",
       " '__package__',\n",
       " '__spec__',\n",
       " '_clearcache',\n",
       " 'calcsize',\n",
       " 'error',\n",
       " 'iter_unpack',\n",
       " 'pack',\n",
       " 'pack_into',\n",
       " 'unpack',\n",
       " 'unpack_from']"
      ]
     },
     "execution_count": 1,
     "metadata": {},
     "output_type": "execute_result"
    }
   ],
   "source": [
    "import struct\n",
    "\n",
    "dir(struct)"
   ]
  },
  {
   "cell_type": "code",
   "execution_count": 2,
   "metadata": {
    "collapsed": true
   },
   "outputs": [],
   "source": [
    "# F.  C Type          Python type         Standard size\n",
    "# x   pad byte        no value         \n",
    "# c   char            string of length    1\n",
    "# b   signed char     integer             1\n",
    "# B   unsigned char   integer             1\n",
    "# ?   _Bool           bool                1\n",
    "# h   short           integer             2\n",
    "# H   unsigned short  integer             2\n",
    "# i   int             integer             4\n",
    "# I   unsigned int    integer             4\n",
    "# l   long            integer             4\n",
    "# L   unsigned long   integer             4\n",
    "# q   long long       integer             8\n",
    "# Q   unsigned long   long  integer       8\n",
    "# f   float           float               4\n",
    "# d   double          float               8\n",
    "# s   char[]          string       \n",
    "# p   char[]          string       \n",
    "# P   void *          integer             \n",
    "\n",
    "\n",
    "# <     Little endian\n",
    "# >     Big endian"
   ]
  },
  {
   "cell_type": "code",
   "execution_count": 3,
   "metadata": {},
   "outputs": [
    {
     "data": {
      "text/plain": [
       "b'A\\x00B\\x00C\\x00\\x00\\x00'"
      ]
     },
     "execution_count": 3,
     "metadata": {},
     "output_type": "execute_result"
    }
   ],
   "source": [
    "struct.pack('hhl', 65, 66, 67)"
   ]
  },
  {
   "cell_type": "code",
   "execution_count": 4,
   "metadata": {},
   "outputs": [
    {
     "data": {
      "text/plain": [
       "b'ABC'"
      ]
     },
     "execution_count": 4,
     "metadata": {},
     "output_type": "execute_result"
    }
   ],
   "source": [
    "struct.pack('BBB', 65, 66, 67)"
   ]
  },
  {
   "cell_type": "code",
   "execution_count": 5,
   "metadata": {},
   "outputs": [
    {
     "data": {
      "text/plain": [
       "(1, 2, 3)"
      ]
     },
     "execution_count": 5,
     "metadata": {},
     "output_type": "execute_result"
    }
   ],
   "source": [
    "struct.unpack('>hhl', b'\\x00\\x01\\x00\\x02\\x00\\x00\\x00\\x03')"
   ]
  },
  {
   "cell_type": "code",
   "execution_count": 6,
   "metadata": {},
   "outputs": [
    {
     "data": {
      "text/plain": [
       "8"
      ]
     },
     "execution_count": 6,
     "metadata": {},
     "output_type": "execute_result"
    }
   ],
   "source": [
    "struct.calcsize('hhl')"
   ]
  },
  {
   "cell_type": "code",
   "execution_count": 7,
   "metadata": {},
   "outputs": [
    {
     "name": "stdout",
     "output_type": "stream",
     "text": [
      "b'Messi     '\n",
      "10\n",
      "41\n",
      "1987\n"
     ]
    }
   ],
   "source": [
    "record = b'Messi     \\x0A\\x29\\xC3\\x07'\n",
    "\n",
    "lastname, no, goals, born = struct.unpack('<10sbbH', record)\n",
    "\n",
    "print(lastname)\n",
    "print(no)\n",
    "print(goals)\n",
    "print(born)"
   ]
  },
  {
   "cell_type": "code",
   "execution_count": 8,
   "metadata": {},
   "outputs": [
    {
     "name": "stdout",
     "output_type": "stream",
     "text": [
      "750054 bytes\n",
      "Size: 500x500 pixels\n",
      "24 bits per pixel\n"
     ]
    }
   ],
   "source": [
    "# Формат BMP\n",
    "#                                    Заголовок файла\n",
    "#\n",
    "# 0   2   Символы 'BM' (код 4D42h)\n",
    "# 2   4   Размер файла в байтах\n",
    "# 6   2   0 (Резервное поле)\n",
    "# 8   2   0 (Резервное поле)\n",
    "# 10  4   Смещение, с которого начинается само изображение (растр).\n",
    "#                                   \n",
    "#                                   Заголовок BITMAP (Информация об изображении)\n",
    "#\n",
    "# 14  4   Размер заголовка BITMAP (в байтах) равно 40\n",
    "# 18  4   Ширина изображения в пикселях\n",
    "# 22  4   Высота изображения в пикселях\n",
    "# 26  2   Число плоскостей, должно быть 1\n",
    "# 28  2   Бит/пиксел\n",
    "\n",
    "# 1 = monochrome palette.       Кол-во цветов = 2 \n",
    "# 4 = 4bit palletized.          Кол-во цветов = 16 \n",
    "# 8 = 8bit palletized.          Кол-во цветов = 256 \n",
    "# 16 = 16bit RGB.               Кол-во ветов = 65536 \n",
    "# 24 = 24bit RGB.               Кол-во ветов = 16M\n",
    "\n",
    "# 30  4   Тип сжатия\n",
    "\n",
    "# 0 = BI_RGB                (без сжатия) \n",
    "# 1 = BI_RLE8              (8 bit RLE сжатие) \n",
    "# 2 = BI_RLE4              (4 bit RLE сжатие)\n",
    "\n",
    "# 34  4   0 или размер сжатого изображения в байтах.\n",
    "# 38  4   Горизонтальное разрешение, пиксел/м\n",
    "# 42  4   Вертикальное разрешение, пиксел/м\n",
    "# 46  4   Количество используемых цветов\n",
    "# 50  4   Количество \"важных\" цветов.\n",
    "# Палитра (Карта цветов для N цветов), если используется\n",
    "# 54  4*N Палитра\n",
    "\n",
    "\n",
    "with open(r'data\\trapeze.bmp', 'rb') as f:\n",
    "    header = f.read(14)\n",
    "    bm, size, reserve1, reserve2, relpos = \\\n",
    "        struct.unpack('<2sLHHL', header)\n",
    "    print('{} bytes'.format(size))\n",
    "\n",
    "    bitmapheader = f.read(16)\n",
    "    headersize, width, height, planes, bitsperpixel = \\\n",
    "        struct.unpack('<LLLHH', bitmapheader)\n",
    "    print('Size: {}x{} pixels'.format(width, height))   \n",
    "    print('{} bits per pixel'.format(bitsperpixel))"
   ]
  },
  {
   "cell_type": "code",
   "execution_count": 9,
   "metadata": {},
   "outputs": [],
   "source": [
    "import io\n",
    "\n",
    "b = io.BytesIO(b\"abcdef\")"
   ]
  },
  {
   "cell_type": "code",
   "execution_count": 10,
   "metadata": {},
   "outputs": [
    {
     "data": {
      "text/plain": [
       "['__class__',\n",
       " '__del__',\n",
       " '__delattr__',\n",
       " '__dict__',\n",
       " '__dir__',\n",
       " '__doc__',\n",
       " '__enter__',\n",
       " '__eq__',\n",
       " '__exit__',\n",
       " '__format__',\n",
       " '__ge__',\n",
       " '__getattribute__',\n",
       " '__getstate__',\n",
       " '__gt__',\n",
       " '__hash__',\n",
       " '__init__',\n",
       " '__iter__',\n",
       " '__le__',\n",
       " '__lt__',\n",
       " '__ne__',\n",
       " '__new__',\n",
       " '__next__',\n",
       " '__reduce__',\n",
       " '__reduce_ex__',\n",
       " '__repr__',\n",
       " '__setattr__',\n",
       " '__setstate__',\n",
       " '__sizeof__',\n",
       " '__str__',\n",
       " '__subclasshook__',\n",
       " '_checkClosed',\n",
       " '_checkReadable',\n",
       " '_checkSeekable',\n",
       " '_checkWritable',\n",
       " 'close',\n",
       " 'closed',\n",
       " 'detach',\n",
       " 'fileno',\n",
       " 'flush',\n",
       " 'getbuffer',\n",
       " 'getvalue',\n",
       " 'isatty',\n",
       " 'read',\n",
       " 'read1',\n",
       " 'readable',\n",
       " 'readinto',\n",
       " 'readinto1',\n",
       " 'readline',\n",
       " 'readlines',\n",
       " 'seek',\n",
       " 'seekable',\n",
       " 'tell',\n",
       " 'truncate',\n",
       " 'writable',\n",
       " 'write',\n",
       " 'writelines']"
      ]
     },
     "execution_count": 10,
     "metadata": {},
     "output_type": "execute_result"
    }
   ],
   "source": [
    "dir(b)"
   ]
  },
  {
   "cell_type": "code",
   "execution_count": 11,
   "metadata": {},
   "outputs": [
    {
     "data": {
      "text/plain": [
       "b'ab56ef'"
      ]
     },
     "execution_count": 11,
     "metadata": {},
     "output_type": "execute_result"
    }
   ],
   "source": [
    "view = b.getbuffer()\n",
    "view[2:4] = b'56'\n",
    "b.getvalue()"
   ]
  },
  {
   "cell_type": "code",
   "execution_count": 12,
   "metadata": {},
   "outputs": [
    {
     "data": {
      "text/plain": [
       "b'/\\x87ZOK\\x9f'"
      ]
     },
     "execution_count": 12,
     "metadata": {},
     "output_type": "execute_result"
    }
   ],
   "source": [
    "b = io.BytesIO(b'\\x2F\\x87\\x5AOK\\x9f')\n",
    "b.seek(3)\n",
    "b.getvalue()"
   ]
  },
  {
   "cell_type": "code",
   "execution_count": 13,
   "metadata": {},
   "outputs": [
    {
     "data": {
      "text/plain": [
       "b'0\\xca\\xfe\\xba\\xbeWAVE'"
      ]
     },
     "execution_count": 13,
     "metadata": {},
     "output_type": "execute_result"
    }
   ],
   "source": [
    "f = io.BytesIO(bytes.fromhex('30'))\n",
    "f.seek(1)\n",
    "f.write(bytes.fromhex('ca fe ba be'))\n",
    "f.write(bytes.fromhex('57 41 56 45'))\n",
    "f.getvalue()"
   ]
  },
  {
   "cell_type": "markdown",
   "metadata": {},
   "source": [
    "#### Системы счисления, дампы"
   ]
  },
  {
   "cell_type": "code",
   "execution_count": 14,
   "metadata": {},
   "outputs": [
    {
     "data": {
      "text/plain": [
       "'0x4db'"
      ]
     },
     "execution_count": 14,
     "metadata": {},
     "output_type": "execute_result"
    }
   ],
   "source": [
    "x = 1243\n",
    "hex(x)"
   ]
  },
  {
   "cell_type": "code",
   "execution_count": 15,
   "metadata": {},
   "outputs": [
    {
     "data": {
      "text/plain": [
       "'0o2333'"
      ]
     },
     "execution_count": 15,
     "metadata": {},
     "output_type": "execute_result"
    }
   ],
   "source": [
    "oct(x)"
   ]
  },
  {
   "cell_type": "code",
   "execution_count": 16,
   "metadata": {},
   "outputs": [
    {
     "data": {
      "text/plain": [
       "'0b10011011011'"
      ]
     },
     "execution_count": 16,
     "metadata": {},
     "output_type": "execute_result"
    }
   ],
   "source": [
    "bin(x)"
   ]
  },
  {
   "cell_type": "code",
   "execution_count": 17,
   "metadata": {},
   "outputs": [
    {
     "data": {
      "text/plain": [
       "'0x48 0x65 0x6c 0x6c 0x6f'"
      ]
     },
     "execution_count": 17,
     "metadata": {},
     "output_type": "execute_result"
    }
   ],
   "source": [
    "hexdump = ' '.join([hex(byte) for byte in b'Hello'])\n",
    "hexdump"
   ]
  },
  {
   "cell_type": "code",
   "execution_count": 18,
   "metadata": {},
   "outputs": [
    {
     "data": {
      "text/plain": [
       "'48 65 6c 6c 6f'"
      ]
     },
     "execution_count": 18,
     "metadata": {},
     "output_type": "execute_result"
    }
   ],
   "source": [
    "hexdump = ' '.join([hex(byte)[2:] for byte in b'Hello'])\n",
    "hexdump"
   ]
  },
  {
   "cell_type": "code",
   "execution_count": 19,
   "metadata": {},
   "outputs": [
    {
     "data": {
      "text/plain": [
       "33"
      ]
     },
     "execution_count": 19,
     "metadata": {},
     "output_type": "execute_result"
    }
   ],
   "source": [
    "a = int('00100001', 2)\n",
    "a"
   ]
  },
  {
   "cell_type": "code",
   "execution_count": 20,
   "metadata": {},
   "outputs": [
    {
     "data": {
      "text/plain": [
       "255"
      ]
     },
     "execution_count": 20,
     "metadata": {},
     "output_type": "execute_result"
    }
   ],
   "source": [
    "a = int('0xff', 16)\n",
    "a"
   ]
  },
  {
   "cell_type": "markdown",
   "metadata": {},
   "source": [
    "#### Строки, байты, юникод"
   ]
  },
  {
   "cell_type": "code",
   "execution_count": 21,
   "metadata": {},
   "outputs": [
    {
     "name": "stdout",
     "output_type": "stream",
     "text": [
      "<class 'str'>\n",
      "Строка ёжика\n",
      "РЎС‚СЂРѕРєР° С‘Р¶РёРєР°\n"
     ]
    }
   ],
   "source": [
    "s = 'Строка ёжика'\n",
    "print(type(s))\n",
    "print(s)\n",
    "print(s.encode('utf8').decode('cp1251'))"
   ]
  },
  {
   "cell_type": "code",
   "execution_count": 22,
   "metadata": {},
   "outputs": [
    {
     "name": "stdout",
     "output_type": "stream",
     "text": [
      "<class 'bytes'>\n",
      "UTF8: b'\\xd0\\xa1\\xd1\\x82\\xd1\\x80\\xd0\\xbe\\xd0\\xba\\xd0\\xb0 \\xd1\\x91\\xd0\\xb6\\xd0\\xb8\\xd0\\xba\\xd0\\xb0'\n",
      "CP1251: b'\\xd1\\xf2\\xf0\\xee\\xea\\xe0 \\xb8\\xe6\\xe8\\xea\\xe0'\n"
     ]
    }
   ],
   "source": [
    "b = s.encode('utf8')\n",
    "print(type(b))\n",
    "print('UTF8:', b)\n",
    "print('CP1251:', s.encode('cp1251'))"
   ]
  },
  {
   "cell_type": "code",
   "execution_count": 23,
   "metadata": {
    "collapsed": true
   },
   "outputs": [],
   "source": [
    "# В python 2 ситуация кардинально другая:\n",
    "# есть отдельные типы str и bytes.\n",
    "\n",
    "# s = u'Строка ёжика'\n",
    "# print(type(s))\n",
    "# print(s)\n",
    "# print(s.encode('utf8').decode('cp1251'))\n",
    "\n",
    "# b = s.encode('utf8')\n",
    "# print(type(b))\n",
    "# print(b)"
   ]
  }
 ],
 "metadata": {
  "anaconda-cloud": {},
  "kernelspec": {
   "display_name": "Python 3",
   "language": "python",
   "name": "python3"
  },
  "language_info": {
   "codemirror_mode": {
    "name": "ipython",
    "version": 3
   },
   "file_extension": ".py",
   "mimetype": "text/x-python",
   "name": "python",
   "nbconvert_exporter": "python",
   "pygments_lexer": "ipython3",
   "version": "3.8.3"
  }
 },
 "nbformat": 4,
 "nbformat_minor": 1
}
